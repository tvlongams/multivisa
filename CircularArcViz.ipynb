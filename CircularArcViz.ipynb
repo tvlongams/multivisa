{
 "cells": [
  {
   "cell_type": "code",
   "execution_count": 1,
   "metadata": {},
   "outputs": [],
   "source": [
    "from ipywidgets import interact, interactive, IntSlider, Layout, interact_manual\n",
    "import ipywidgets as widgets\n",
    "from IPython.display import display\n",
    "import numpy as np\n",
    "import matplotlib.pyplot as plt\n",
    "#%matplotlib inline\n",
    "import pandas as pd\n",
    "from sklearn.discriminant_analysis import LinearDiscriminantAnalysis as LDA"
   ]
  },
  {
   "cell_type": "code",
   "execution_count": 2,
   "metadata": {},
   "outputs": [],
   "source": [
    "from datasets import *"
   ]
  },
  {
   "cell_type": "code",
   "execution_count": 3,
   "metadata": {},
   "outputs": [],
   "source": [
    "(x,y)=DATA['iris']"
   ]
  },
  {
   "cell_type": "code",
   "execution_count": 4,
   "metadata": {},
   "outputs": [],
   "source": [
    "def normalize_cols(m):\n",
    "    col_max=m.max(axis=0)\n",
    "    col_min=m.min(axis=0)\n",
    "    return (m-col_min)/(col_max-col_min)"
   ]
  },
  {
   "cell_type": "code",
   "execution_count": 5,
   "metadata": {},
   "outputs": [],
   "source": [
    "x=normalize_cols(x)"
   ]
  },
  {
   "cell_type": "code",
   "execution_count": 6,
   "metadata": {},
   "outputs": [],
   "source": [
    "(n,m)=x.shape"
   ]
  },
  {
   "cell_type": "code",
   "execution_count": 7,
   "metadata": {},
   "outputs": [],
   "source": [
    "import matplotlib\n",
    "classes=np.unique(y)\n",
    "colors=matplotlib.pyplot.cm.gist_rainbow(np.linspace(0,1,len(classes)))\n",
    "#colors=matplotlib.pyplot.cm.rainbow(np.linspace(0,1,len(classes)))\n",
    "cm = matplotlib.colors.ListedColormap(colors)\n",
    "axiscolors=matplotlib.pyplot.cm.rainbow(np.linspace(0,1,m))"
   ]
  },
  {
   "cell_type": "code",
   "execution_count": 8,
   "metadata": {},
   "outputs": [],
   "source": [
    "def circulararcradviz(x,alpha):\n",
    "\t#alpha\n",
    "\tm=len(x)\n",
    "\ttheta=np.zeros(m)\n",
    "\t\n",
    "\tfor i in range(m):\n",
    "\t\ttheta[i]=alpha[i,0]*x[i]+alpha[i,1]*(1-x[i])\n",
    "\t\t\n",
    "\tanchor=np.array([np.cos(theta),np.sin(theta)])\n",
    "\tp=np.dot(anchor,x)/np.sum(x)\n",
    "\treturn p"
   ]
  },
  {
   "cell_type": "code",
   "execution_count": 9,
   "metadata": {},
   "outputs": [],
   "source": [
    "def circleradviz(X,a):\n",
    "\t#p=sum \n",
    "\t(n,m)=X.shape\n",
    "\tY=np.zeros((n,2))\n",
    "\tfor i in range(n):\n",
    "\t\tY[i]=circulararcradviz(X[i],a)\n",
    "\treturn Y"
   ]
  },
  {
   "cell_type": "code",
   "execution_count": 10,
   "metadata": {},
   "outputs": [],
   "source": [
    "def Classifier(x,y):\n",
    "\tclf=LDA()\n",
    "\tclf.fit(x,y)\n",
    "\tac=clf.score(x,y)\n",
    "\t#ac=silhouette(x, y, metric='sqeuclidean')\n",
    "\treturn ac"
   ]
  },
  {
   "cell_type": "code",
   "execution_count": 11,
   "metadata": {},
   "outputs": [],
   "source": [
    "A1=A2=A3=A4=(0,np.pi)"
   ]
  },
  {
   "cell_type": "code",
   "execution_count": 12,
   "metadata": {},
   "outputs": [],
   "source": [
    "Alpha=np.array([A1,A2,A3,A4])"
   ]
  },
  {
   "cell_type": "code",
   "execution_count": 13,
   "metadata": {},
   "outputs": [
    {
     "data": {
      "text/plain": [
       "(4, 2)"
      ]
     },
     "execution_count": 13,
     "metadata": {},
     "output_type": "execute_result"
    }
   ],
   "source": [
    "Alpha.shape"
   ]
  },
  {
   "cell_type": "code",
   "execution_count": 14,
   "metadata": {},
   "outputs": [],
   "source": [
    "def func_iradviz(A1,A2,A3,A4):\n",
    "    Alpha=np.array([A1,A2,A3,A4])# Alpha.shape=(4,2)\n",
    "    Y=circleradviz(x,Alpha)\n",
    "    #draw Radviz\n",
    "    plt.figure(figsize=(5,5))\n",
    "    plt.scatter(Y[:,0],Y[:,1],c=y,cmap=cm,marker='.',s=10)\n",
    "    #draw unit circle\n",
    "    t = np.linspace(0,2*np.pi, 100)\n",
    "    plt.plot(np.cos(t),np.sin(t),alpha=0.95)\n",
    "    #draw alpha point\n",
    "    (n,m)=x.shape\n",
    "    al=Alpha\n",
    "    \n",
    "    for i in range(m):\n",
    "        t = np.linspace(al[i,0],al[i,1], 50)\n",
    "        plt.plot((1.01+i*0.01)*np.cos(t),(1.01+i*0.01)*np.sin(t),label=str(i+1),color=axiscolors[i],alpha=1.0)\n",
    "        plt.text((1.0+i*0.1)*np.cos(t[25]),(1.0+i*0.1)*np.sin(t[25]),'A'+str(i+1),color=\"black\")\n",
    "    \n",
    "    ac=Classifier(Y,y)\n",
    "    plt.text(-1,1,str(ac*100)[:5]+'%')\n",
    "    plt.xlim(-1.2,1.2)\n",
    "    plt.ylim(-1.2,1.2)\n",
    "\n",
    "    plt.show()\n",
    "    return (A1,A2,A3,A4)"
   ]
  },
  {
   "cell_type": "code",
   "execution_count": 15,
   "metadata": {},
   "outputs": [],
   "source": [
    "p=interactive(func_iradviz,\n",
    "              A1=widgets.FloatRangeSlider(value=[0, np.pi],min=0,max=2*np.pi,step=0.1),\n",
    "              A2=widgets.FloatRangeSlider(value=[0, np.pi],min=0,max=2*np.pi,step=0.1),\n",
    "              A3=widgets.FloatRangeSlider(value=[0, np.pi],min=0,max=2*np.pi,step=0.1),\n",
    "              A4=widgets.FloatRangeSlider(value=[0, np.pi],min=0,max=2*np.pi,step=0.1)\n",
    "             )"
   ]
  },
  {
   "cell_type": "code",
   "execution_count": 16,
   "metadata": {},
   "outputs": [
    {
     "data": {
      "application/vnd.jupyter.widget-view+json": {
       "model_id": "6b4163845c9f4f6e80c4807795ab7437",
       "version_major": 2,
       "version_minor": 0
      },
      "text/html": [
       "<p>Failed to display Jupyter Widget of type <code>interactive</code>.</p>\n",
       "<p>\n",
       "  If you're reading this message in the Jupyter Notebook or JupyterLab Notebook, it may mean\n",
       "  that the widgets JavaScript is still loading. If this message persists, it\n",
       "  likely means that the widgets JavaScript library is either not installed or\n",
       "  not enabled. See the <a href=\"https://ipywidgets.readthedocs.io/en/stable/user_install.html\">Jupyter\n",
       "  Widgets Documentation</a> for setup instructions.\n",
       "</p>\n",
       "<p>\n",
       "  If you're reading this message in another frontend (for example, a static\n",
       "  rendering on GitHub or <a href=\"https://nbviewer.jupyter.org/\">NBViewer</a>),\n",
       "  it may mean that your frontend doesn't currently support widgets.\n",
       "</p>\n"
      ],
      "text/plain": [
       "interactive(children=(FloatRangeSlider(value=(0.0, 3.141592653589793), description='A1', max=6.283185307179586), FloatRangeSlider(value=(0.0, 3.141592653589793), description='A2', max=6.283185307179586), FloatRangeSlider(value=(0.0, 3.141592653589793), description='A3', max=6.283185307179586), FloatRangeSlider(value=(0.0, 3.141592653589793), description='A4', max=6.283185307179586), Output()), _dom_classes=('widget-interact',))"
      ]
     },
     "metadata": {},
     "output_type": "display_data"
    }
   ],
   "source": [
    "display(p)"
   ]
  },
  {
   "cell_type": "code",
   "execution_count": null,
   "metadata": {},
   "outputs": [],
   "source": []
  }
 ],
 "metadata": {
  "kernelspec": {
   "display_name": "Python 3",
   "language": "python",
   "name": "python3"
  },
  "language_info": {
   "codemirror_mode": {
    "name": "ipython",
    "version": 3
   },
   "file_extension": ".py",
   "mimetype": "text/x-python",
   "name": "python",
   "nbconvert_exporter": "python",
   "pygments_lexer": "ipython3",
   "version": "3.5.3"
  }
 },
 "nbformat": 4,
 "nbformat_minor": 2
}
