{
 "cells": [
  {
   "cell_type": "code",
   "execution_count": 1,
   "metadata": {},
   "outputs": [],
   "source": [
    "from bca import BCA\n",
    "from sklearn.datasets import load_breast_cancer\n",
    "from sklearn.naive_bayes import GaussianNB"
   ]
  },
  {
   "cell_type": "code",
   "execution_count": 2,
   "metadata": {},
   "outputs": [],
   "source": [
    "X, y = load_breast_cancer().data, load_breast_cancer().target"
   ]
  },
  {
   "cell_type": "code",
   "execution_count": 3,
   "metadata": {},
   "outputs": [],
   "source": [
    "estimator = GaussianNB()"
   ]
  },
  {
   "cell_type": "code",
   "execution_count": 4,
   "metadata": {},
   "outputs": [],
   "source": [
    "selector = BCA(estimator)"
   ]
  },
  {
   "cell_type": "code",
   "execution_count": 9,
   "metadata": {},
   "outputs": [
    {
     "name": "stdout",
     "output_type": "stream",
     "text": [
      "Iteration 0 starts...\n",
      "best feature set so far is [] with score = -inf\n",
      "\n",
      "BCA algorithm starts...\n",
      "\n",
      "Iteration 1 starts...\n",
      "best feature set so far is [0] with score = 0.8878645632935745\n",
      "best feature set so far is [0] with score = 0.8878645632935745\n",
      "best feature set so far is [0] with score = 0.8878645632935745\n",
      "best feature set so far is [0] with score = 0.8878645632935745\n",
      "best feature set so far is [0] with score = 0.8878645632935745\n",
      "best feature set so far is [0 5] with score = 0.9016544824932666\n",
      "best feature set so far is [0 5 6] with score = 0.9052250865717584\n",
      "best feature set so far is [0 5 6 7] with score = 0.9174913428241631\n",
      "best feature set so far is [0 5 6 7] with score = 0.9174913428241631\n",
      "best feature set so far is [0 5 6 7] with score = 0.9174913428241631\n",
      "best feature set so far is [0 5 6 7] with score = 0.9174913428241631\n",
      "best feature set so far is [0 5 6 7] with score = 0.9174913428241631\n"
     ]
    },
    {
     "name": "stderr",
     "output_type": "stream",
     "text": [
      "[Parallel(n_jobs=1)]: Done   5 out of   5 | elapsed:    0.0s finished\n",
      "[Parallel(n_jobs=1)]: Done   5 out of   5 | elapsed:    0.0s finished\n",
      "[Parallel(n_jobs=1)]: Done   5 out of   5 | elapsed:    0.0s finished\n",
      "[Parallel(n_jobs=1)]: Done   5 out of   5 | elapsed:    0.0s finished\n",
      "[Parallel(n_jobs=1)]: Done   5 out of   5 | elapsed:    0.0s finished\n",
      "[Parallel(n_jobs=1)]: Done   5 out of   5 | elapsed:    0.0s finished\n",
      "[Parallel(n_jobs=1)]: Done   5 out of   5 | elapsed:    0.0s finished\n",
      "[Parallel(n_jobs=1)]: Done   5 out of   5 | elapsed:    0.0s finished\n",
      "[Parallel(n_jobs=1)]: Done   5 out of   5 | elapsed:    0.0s finished\n",
      "[Parallel(n_jobs=1)]: Done   5 out of   5 | elapsed:    0.0s finished\n",
      "[Parallel(n_jobs=1)]: Done   5 out of   5 | elapsed:    0.0s finished\n",
      "[Parallel(n_jobs=1)]: Done   5 out of   5 | elapsed:    0.0s finished\n",
      "[Parallel(n_jobs=1)]: Done   5 out of   5 | elapsed:    0.0s finished\n"
     ]
    },
    {
     "name": "stdout",
     "output_type": "stream",
     "text": [
      "best feature set so far is [0 5 6 7] with score = 0.9174913428241631\n",
      "best feature set so far is [0 5 6 7] with score = 0.9174913428241631\n",
      "best feature set so far is [0 5 6 7] with score = 0.9174913428241631\n",
      "best feature set so far is [0 5 6 7] with score = 0.9174913428241631\n",
      "best feature set so far is [ 0  5  6  7 16] with score = 0.9227702962677953\n",
      "best feature set so far is [ 0  5  6  7 16] with score = 0.9227702962677953\n",
      "best feature set so far is [ 0  5  6  7 16] with score = 0.9227702962677953\n",
      "best feature set so far is [ 0  5  6  7 16] with score = 0.9227702962677953\n",
      "best feature set so far is [ 0  5  6  7 16 20] with score = 0.9280800307810697\n",
      "best feature set so far is [ 0  5  6  7 16 20 21] with score = 0.9315582916506349\n",
      "best feature set so far is [ 0  5  6  7 16 20 21 22] with score = 0.9350673335898423\n",
      "best feature set so far is [ 0  5  6  7 16 20 21 22 23] with score = 0.9439168911119662\n",
      "best feature set so far is [ 0  5  6  7 16 20 21 22 23] with score = 0.9439168911119662\n",
      "best feature set so far is [ 0  5  6  7 16 20 21 22 23 25] with score = 0.9457483647556753\n",
      "best feature set so far is [ 0  5  6  7 16 20 21 22 23 25] with score = 0.9457483647556753\n"
     ]
    },
    {
     "name": "stderr",
     "output_type": "stream",
     "text": [
      "[Parallel(n_jobs=1)]: Done   5 out of   5 | elapsed:    0.0s finished\n",
      "[Parallel(n_jobs=1)]: Done   5 out of   5 | elapsed:    0.0s finished\n",
      "[Parallel(n_jobs=1)]: Done   5 out of   5 | elapsed:    0.0s finished\n",
      "[Parallel(n_jobs=1)]: Done   5 out of   5 | elapsed:    0.0s finished\n",
      "[Parallel(n_jobs=1)]: Done   5 out of   5 | elapsed:    0.0s finished\n",
      "[Parallel(n_jobs=1)]: Done   5 out of   5 | elapsed:    0.0s finished\n",
      "[Parallel(n_jobs=1)]: Done   5 out of   5 | elapsed:    0.0s finished\n",
      "[Parallel(n_jobs=1)]: Done   5 out of   5 | elapsed:    0.0s finished\n",
      "[Parallel(n_jobs=1)]: Done   5 out of   5 | elapsed:    0.0s finished\n",
      "[Parallel(n_jobs=1)]: Done   5 out of   5 | elapsed:    0.0s finished\n",
      "[Parallel(n_jobs=1)]: Done   5 out of   5 | elapsed:    0.0s finished\n",
      "[Parallel(n_jobs=1)]: Done   5 out of   5 | elapsed:    0.0s finished\n",
      "[Parallel(n_jobs=1)]: Done   5 out of   5 | elapsed:    0.0s finished\n",
      "[Parallel(n_jobs=1)]: Done   5 out of   5 | elapsed:    0.0s finished\n",
      "[Parallel(n_jobs=1)]: Done   5 out of   5 | elapsed:    0.0s finished\n",
      "[Parallel(n_jobs=1)]: Done   5 out of   5 | elapsed:    0.0s finished\n",
      "[Parallel(n_jobs=1)]: Done   5 out of   5 | elapsed:    0.0s finished\n",
      "[Parallel(n_jobs=1)]: Done   5 out of   5 | elapsed:    0.0s finished\n",
      "[Parallel(n_jobs=1)]: Done   5 out of   5 | elapsed:    0.0s finished\n",
      "[Parallel(n_jobs=1)]: Done   5 out of   5 | elapsed:    0.0s finished\n",
      "[Parallel(n_jobs=1)]: Done   5 out of   5 | elapsed:    0.0s finished\n",
      "[Parallel(n_jobs=1)]: Done   5 out of   5 | elapsed:    0.0s finished\n",
      "[Parallel(n_jobs=1)]: Done   5 out of   5 | elapsed:    0.0s finished\n",
      "[Parallel(n_jobs=1)]: Done   5 out of   5 | elapsed:    0.0s finished\n",
      "[Parallel(n_jobs=1)]: Done   5 out of   5 | elapsed:    0.0s finished\n",
      "[Parallel(n_jobs=1)]: Done   5 out of   5 | elapsed:    0.0s finished\n",
      "[Parallel(n_jobs=1)]: Done   5 out of   5 | elapsed:    0.0s finished\n",
      "[Parallel(n_jobs=1)]: Done   5 out of   5 | elapsed:    0.0s finished\n",
      "[Parallel(n_jobs=1)]: Done   5 out of   5 | elapsed:    0.0s finished\n",
      "[Parallel(n_jobs=1)]: Done   5 out of   5 | elapsed:    0.0s finished\n"
     ]
    },
    {
     "name": "stdout",
     "output_type": "stream",
     "text": [
      "best feature set so far is [ 0  5  6  7 16 20 21 22 23 25 27] with score = 0.9474259330511735\n",
      "best feature set so far is [ 0  5  6  7 16 20 21 22 23 25 27] with score = 0.9474259330511735\n",
      "best feature set so far is [ 0  5  6  7 16 20 21 22 23 25 27] with score = 0.9474259330511735\n",
      "\n",
      "Iteration 2 starts...\n",
      "best feature set so far is [ 5  6  7 16 20 21 22 23 25 27] with score = 0.9509657560600232\n",
      "best feature set so far is [ 1  5  6  7 16 20 21 22 23 25 27] with score = 0.9526741054251635\n",
      "best feature set so far is [ 1  5  6  7 16 20 21 22 23 25 27] with score = 0.9526741054251635\n",
      "best feature set so far is [ 1  5  6  7 16 20 21 22 23 25 27] with score = 0.9526741054251635\n",
      "best feature set so far is [ 1  5  6  7 16 20 21 22 23 25 27] with score = 0.9526741054251635\n",
      "best feature set so far is [ 1  6  7 16 20 21 22 23 25 27] with score = 0.9632012312427856\n",
      "best feature set so far is [ 1  6  7 16 20 21 22 23 25 27] with score = 0.9632012312427856\n",
      "best feature set so far is [ 1  6  7 16 20 21 22 23 25 27] with score = 0.9632012312427856\n",
      "best feature set so far is [ 1  6  7 16 20 21 22 23 25 27] with score = 0.9632012312427856\n",
      "best feature set so far is [ 1  6  7 16 20 21 22 23 25 27] with score = 0.9632012312427856\n",
      "best feature set so far is [ 1  6  7 16 20 21 22 23 25 27] with score = 0.9632012312427856\n",
      "best feature set so far is [ 1  6  7 16 20 21 22 23 25 27] with score = 0.9632012312427856\n"
     ]
    },
    {
     "name": "stderr",
     "output_type": "stream",
     "text": [
      "[Parallel(n_jobs=1)]: Done   5 out of   5 | elapsed:    0.0s finished\n",
      "[Parallel(n_jobs=1)]: Done   5 out of   5 | elapsed:    0.0s finished\n",
      "[Parallel(n_jobs=1)]: Done   5 out of   5 | elapsed:    0.0s finished\n",
      "[Parallel(n_jobs=1)]: Done   5 out of   5 | elapsed:    0.0s finished\n",
      "[Parallel(n_jobs=1)]: Done   5 out of   5 | elapsed:    0.0s finished\n",
      "[Parallel(n_jobs=1)]: Done   5 out of   5 | elapsed:    0.0s finished\n",
      "[Parallel(n_jobs=1)]: Done   5 out of   5 | elapsed:    0.0s finished\n",
      "[Parallel(n_jobs=1)]: Done   5 out of   5 | elapsed:    0.0s finished\n",
      "[Parallel(n_jobs=1)]: Done   5 out of   5 | elapsed:    0.0s finished\n",
      "[Parallel(n_jobs=1)]: Done   5 out of   5 | elapsed:    0.0s finished\n",
      "[Parallel(n_jobs=1)]: Done   5 out of   5 | elapsed:    0.0s finished\n",
      "[Parallel(n_jobs=1)]: Done   5 out of   5 | elapsed:    0.0s finished\n",
      "[Parallel(n_jobs=1)]: Done   5 out of   5 | elapsed:    0.0s finished\n",
      "[Parallel(n_jobs=1)]: Done   5 out of   5 | elapsed:    0.0s finished\n",
      "[Parallel(n_jobs=1)]: Done   5 out of   5 | elapsed:    0.0s finished\n",
      "[Parallel(n_jobs=1)]: Done   5 out of   5 | elapsed:    0.0s finished\n",
      "[Parallel(n_jobs=1)]: Done   5 out of   5 | elapsed:    0.0s finished\n",
      "[Parallel(n_jobs=1)]: Done   5 out of   5 | elapsed:    0.0s finished\n"
     ]
    },
    {
     "name": "stdout",
     "output_type": "stream",
     "text": [
      "best feature set so far is [ 1  6  7 16 20 21 22 23 25 27] with score = 0.9632012312427856\n",
      "best feature set so far is [ 1  6  7 16 20 21 22 23 25 27] with score = 0.9632012312427856\n",
      "best feature set so far is [ 1  6  7 16 20 21 22 23 25 27] with score = 0.9632012312427856\n",
      "best feature set so far is [ 1  6  7 16 20 21 22 23 25 27] with score = 0.9632012312427856\n",
      "best feature set so far is [ 1  6  7 16 20 21 22 23 25 27] with score = 0.9632012312427856\n",
      "best feature set so far is [ 1  6  7 16 20 21 22 23 25 27] with score = 0.9632012312427856\n",
      "best feature set so far is [ 1  6  7 16 20 21 22 23 25 27] with score = 0.9632012312427856\n",
      "best feature set so far is [ 1  6  7 16 20 21 22 23 25 27] with score = 0.9632012312427856\n",
      "best feature set so far is [ 1  6  7 16 20 21 22 23 25 27] with score = 0.9632012312427856\n",
      "best feature set so far is [ 1  6  7 16 20 21 22 23 25 27] with score = 0.9632012312427856\n",
      "best feature set so far is [ 1  6  7 16 20 21 22 23 25 27] with score = 0.9632012312427856\n",
      "best feature set so far is [ 1  6  7 16 20 21 22 23 25 27] with score = 0.9632012312427856\n",
      "best feature set so far is [ 1  6  7 16 20 21 22 23 25 27] with score = 0.9632012312427856\n",
      "best feature set so far is [ 1  6  7 16 20 21 22 23 27] with score = 0.9632012312427858\n",
      "best feature set so far is [ 1  6  7 16 20 21 22 23 27] with score = 0.9632012312427858\n",
      "best feature set so far is [ 1  6  7 16 20 21 22 23 27] with score = 0.9632012312427858\n",
      "best feature set so far is [ 1  6  7 16 20 21 22 23 27 28] with score = 0.9702193151212004\n",
      "best feature set so far is [ 1  6  7 16 20 21 22 23 27 28] with score = 0.9702193151212004\n",
      "\n",
      "Iteration 3 starts...\n",
      "best feature set so far is [ 1  6  7 16 20 21 22 23 27 28] with score = 0.9702193151212004\n"
     ]
    },
    {
     "name": "stderr",
     "output_type": "stream",
     "text": [
      "[Parallel(n_jobs=1)]: Done   5 out of   5 | elapsed:    0.0s finished\n",
      "[Parallel(n_jobs=1)]: Done   5 out of   5 | elapsed:    0.0s finished\n",
      "[Parallel(n_jobs=1)]: Done   5 out of   5 | elapsed:    0.0s finished\n",
      "[Parallel(n_jobs=1)]: Done   5 out of   5 | elapsed:    0.0s finished\n",
      "[Parallel(n_jobs=1)]: Done   5 out of   5 | elapsed:    0.0s finished\n",
      "[Parallel(n_jobs=1)]: Done   5 out of   5 | elapsed:    0.0s finished\n",
      "[Parallel(n_jobs=1)]: Done   5 out of   5 | elapsed:    0.0s finished\n",
      "[Parallel(n_jobs=1)]: Done   5 out of   5 | elapsed:    0.0s finished\n",
      "[Parallel(n_jobs=1)]: Done   5 out of   5 | elapsed:    0.0s finished\n",
      "[Parallel(n_jobs=1)]: Done   5 out of   5 | elapsed:    0.0s finished\n",
      "[Parallel(n_jobs=1)]: Done   5 out of   5 | elapsed:    0.0s finished\n",
      "[Parallel(n_jobs=1)]: Done   5 out of   5 | elapsed:    0.0s finished\n",
      "[Parallel(n_jobs=1)]: Done   5 out of   5 | elapsed:    0.0s finished\n",
      "[Parallel(n_jobs=1)]: Done   5 out of   5 | elapsed:    0.0s finished\n",
      "[Parallel(n_jobs=1)]: Done   5 out of   5 | elapsed:    0.0s finished\n",
      "[Parallel(n_jobs=1)]: Done   5 out of   5 | elapsed:    0.0s finished\n",
      "[Parallel(n_jobs=1)]: Done   5 out of   5 | elapsed:    0.0s finished\n"
     ]
    },
    {
     "name": "stdout",
     "output_type": "stream",
     "text": [
      "best feature set so far is [ 1  6  7 16 20 21 22 23 27 28] with score = 0.9702193151212004\n",
      "best feature set so far is [ 1  6  7 16 20 21 22 23 27 28] with score = 0.9702193151212004\n",
      "best feature set so far is [ 1  6  7 16 20 21 22 23 27 28] with score = 0.9702193151212004\n",
      "best feature set so far is [ 1  4  6  7 16 20 21 22 23 27 28] with score = 0.9719892266256253\n",
      "best feature set so far is [ 1  4  6  7 16 20 21 22 23 27 28] with score = 0.9719892266256253\n",
      "best feature set so far is [ 1  4  6  7 16 20 21 22 23 27 28] with score = 0.9719892266256253\n",
      "best feature set so far is [ 1  4  6  7 16 20 21 22 23 27 28] with score = 0.9719892266256253\n",
      "best feature set so far is [ 1  4  6  7 16 20 21 22 23 27 28] with score = 0.9719892266256253\n",
      "best feature set so far is [ 1  4  6  7 16 20 21 22 23 27 28] with score = 0.9719892266256253\n",
      "best feature set so far is [ 1  4  6  7 16 20 21 22 23 27 28] with score = 0.9719892266256253\n",
      "best feature set so far is [ 1  4  6  7 16 20 21 22 23 27 28] with score = 0.9719892266256253\n",
      "best feature set so far is [ 1  4  6  7 16 20 21 22 23 27 28] with score = 0.9719892266256253\n",
      "best feature set so far is [ 1  4  6  7 16 20 21 22 23 27 28] with score = 0.9719892266256253\n",
      "best feature set so far is [ 1  4  6  7 16 20 21 22 23 27 28] with score = 0.9719892266256253\n",
      "best feature set so far is [ 1  4  6  7 16 20 21 22 23 27 28] with score = 0.9719892266256253\n",
      "best feature set so far is [ 1  4  6  7 16 20 21 22 23 27 28] with score = 0.9719892266256253\n",
      "best feature set so far is [ 1  4  6  7 16 20 21 22 23 27 28] with score = 0.9719892266256253\n"
     ]
    },
    {
     "name": "stderr",
     "output_type": "stream",
     "text": [
      "[Parallel(n_jobs=1)]: Done   5 out of   5 | elapsed:    0.0s finished\n",
      "[Parallel(n_jobs=1)]: Done   5 out of   5 | elapsed:    0.0s finished\n",
      "[Parallel(n_jobs=1)]: Done   5 out of   5 | elapsed:    0.0s finished\n",
      "[Parallel(n_jobs=1)]: Done   5 out of   5 | elapsed:    0.0s finished\n",
      "[Parallel(n_jobs=1)]: Done   5 out of   5 | elapsed:    0.0s finished\n",
      "[Parallel(n_jobs=1)]: Done   5 out of   5 | elapsed:    0.0s finished\n",
      "[Parallel(n_jobs=1)]: Done   5 out of   5 | elapsed:    0.0s finished\n",
      "[Parallel(n_jobs=1)]: Done   5 out of   5 | elapsed:    0.0s finished\n",
      "[Parallel(n_jobs=1)]: Done   5 out of   5 | elapsed:    0.0s finished\n",
      "[Parallel(n_jobs=1)]: Done   5 out of   5 | elapsed:    0.0s finished\n",
      "[Parallel(n_jobs=1)]: Done   5 out of   5 | elapsed:    0.0s finished\n",
      "[Parallel(n_jobs=1)]: Done   5 out of   5 | elapsed:    0.0s finished\n",
      "[Parallel(n_jobs=1)]: Done   5 out of   5 | elapsed:    0.0s finished\n",
      "[Parallel(n_jobs=1)]: Done   5 out of   5 | elapsed:    0.0s finished\n",
      "[Parallel(n_jobs=1)]: Done   5 out of   5 | elapsed:    0.0s finished\n",
      "[Parallel(n_jobs=1)]: Done   5 out of   5 | elapsed:    0.0s finished\n",
      "[Parallel(n_jobs=1)]: Done   5 out of   5 | elapsed:    0.0s finished\n",
      "[Parallel(n_jobs=1)]: Done   5 out of   5 | elapsed:    0.0s finished\n"
     ]
    },
    {
     "name": "stdout",
     "output_type": "stream",
     "text": [
      "best feature set so far is [ 1  4  6  7 16 20 21 22 23 27 28] with score = 0.9719892266256253\n",
      "best feature set so far is [ 1  4  6  7 16 20 21 22 23 27 28] with score = 0.9719892266256253\n",
      "best feature set so far is [ 1  4  6  7 16 20 21 22 23 27 28] with score = 0.9719892266256253\n",
      "best feature set so far is [ 1  4  6  7 16 20 21 22 23 27 28] with score = 0.9719892266256253\n",
      "best feature set so far is [ 1  4  6  7 16 20 21 22 23 27 28] with score = 0.9719892266256253\n",
      "best feature set so far is [ 1  4  6  7 16 20 21 22 23 27 28] with score = 0.9719892266256253\n",
      "best feature set so far is [ 1  4  6  7 16 20 21 22 23 27 28] with score = 0.9719892266256253\n",
      "best feature set so far is [ 1  4  6  7 16 20 21 22 23 27 28] with score = 0.9719892266256253\n",
      "best feature set so far is [ 1  4  6  7 16 20 21 22 23 27 28] with score = 0.9719892266256253\n",
      "best feature set so far is [ 1  4  6  7 16 20 21 22 23 27 28] with score = 0.9719892266256253\n",
      "best feature set so far is [ 1  4  6  7 16 20 21 22 23 27 28] with score = 0.9719892266256253\n",
      "best feature set so far is [ 1  4  6  7 16 20 21 22 23 27 28] with score = 0.9719892266256253\n",
      "\n",
      "Iteration 4 starts...\n",
      "best feature set so far is [ 1  4  6  7 16 20 21 22 23 27 28] with score = 0.9719892266256253\n",
      "best feature set so far is [ 1  4  6  7 16 20 21 22 23 27 28] with score = 0.9719892266256253\n",
      "best feature set so far is [ 1  4  6  7 16 20 21 22 23 27 28] with score = 0.9719892266256253\n",
      "best feature set so far is [ 1  4  6  7 16 20 21 22 23 27 28] with score = 0.9719892266256253\n",
      "best feature set so far is [ 1  4  6  7 16 20 21 22 23 27 28] with score = 0.9719892266256253\n",
      "best feature set so far is [ 1  4  6  7 16 20 21 22 23 27 28] with score = 0.9719892266256253\n"
     ]
    },
    {
     "name": "stderr",
     "output_type": "stream",
     "text": [
      "[Parallel(n_jobs=1)]: Done   5 out of   5 | elapsed:    0.0s finished\n",
      "[Parallel(n_jobs=1)]: Done   5 out of   5 | elapsed:    0.0s finished\n",
      "[Parallel(n_jobs=1)]: Done   5 out of   5 | elapsed:    0.0s finished\n",
      "[Parallel(n_jobs=1)]: Done   5 out of   5 | elapsed:    0.0s finished\n",
      "[Parallel(n_jobs=1)]: Done   5 out of   5 | elapsed:    0.0s finished\n",
      "[Parallel(n_jobs=1)]: Done   5 out of   5 | elapsed:    0.0s finished\n",
      "[Parallel(n_jobs=1)]: Done   5 out of   5 | elapsed:    0.0s finished\n",
      "[Parallel(n_jobs=1)]: Done   5 out of   5 | elapsed:    0.0s finished\n",
      "[Parallel(n_jobs=1)]: Done   5 out of   5 | elapsed:    0.0s finished\n",
      "[Parallel(n_jobs=1)]: Done   5 out of   5 | elapsed:    0.0s finished\n",
      "[Parallel(n_jobs=1)]: Done   5 out of   5 | elapsed:    0.0s finished\n",
      "[Parallel(n_jobs=1)]: Done   5 out of   5 | elapsed:    0.0s finished\n",
      "[Parallel(n_jobs=1)]: Done   5 out of   5 | elapsed:    0.0s finished\n",
      "[Parallel(n_jobs=1)]: Done   5 out of   5 | elapsed:    0.0s finished\n",
      "[Parallel(n_jobs=1)]: Done   5 out of   5 | elapsed:    0.0s finished\n",
      "[Parallel(n_jobs=1)]: Done   5 out of   5 | elapsed:    0.0s finished\n",
      "[Parallel(n_jobs=1)]: Done   5 out of   5 | elapsed:    0.0s finished\n",
      "[Parallel(n_jobs=1)]: Done   5 out of   5 | elapsed:    0.0s finished\n"
     ]
    },
    {
     "name": "stdout",
     "output_type": "stream",
     "text": [
      "best feature set so far is [ 1  4  6  7 16 20 21 22 23 27 28] with score = 0.9719892266256253\n",
      "best feature set so far is [ 1  4  6  7 16 20 21 22 23 27 28] with score = 0.9719892266256253\n",
      "best feature set so far is [ 1  4  6  7 16 20 21 22 23 27 28] with score = 0.9719892266256253\n",
      "best feature set so far is [ 1  4  6  7 16 20 21 22 23 27 28] with score = 0.9719892266256253\n",
      "best feature set so far is [ 1  4  6  7 16 20 21 22 23 27 28] with score = 0.9719892266256253\n",
      "best feature set so far is [ 1  4  6  7 16 20 21 22 23 27 28] with score = 0.9719892266256253\n",
      "best feature set so far is [ 1  4  6  7 16 20 21 22 23 27 28] with score = 0.9719892266256253\n",
      "best feature set so far is [ 1  4  6  7 16 20 21 22 23 27 28] with score = 0.9719892266256253\n",
      "best feature set so far is [ 1  4  6  7 16 20 21 22 23 27 28] with score = 0.9719892266256253\n",
      "best feature set so far is [ 1  4  6  7 16 20 21 22 23 27 28] with score = 0.9719892266256253\n",
      "best feature set so far is [ 1  4  6  7 16 20 21 22 23 27 28] with score = 0.9719892266256253\n",
      "best feature set so far is [ 1  4  6  7 16 20 21 22 23 27 28] with score = 0.9719892266256253\n",
      "best feature set so far is [ 1  4  6  7 16 20 21 22 23 27 28] with score = 0.9719892266256253\n",
      "best feature set so far is [ 1  4  6  7 16 20 21 22 23 27 28] with score = 0.9719892266256253\n",
      "best feature set so far is [ 1  4  6  7 16 20 21 22 23 27 28] with score = 0.9719892266256253\n",
      "best feature set so far is [ 1  4  6  7 16 20 21 22 23 27 28] with score = 0.9719892266256253\n",
      "best feature set so far is [ 1  4  6  7 16 20 21 22 23 27 28] with score = 0.9719892266256253\n",
      "best feature set so far is [ 1  4  6  7 16 20 21 22 23 27 28] with score = 0.9719892266256253\n",
      "best feature set so far is [ 1  4  6  7 16 20 21 22 23 27 28] with score = 0.9719892266256253\n",
      "best feature set so far is [ 1  4  6  7 16 20 21 22 23 27 28] with score = 0.9719892266256253\n",
      "best feature set so far is [ 1  4  6  7 16 20 21 22 23 27 28] with score = 0.9719892266256253\n",
      "best feature set so far is [ 1  4  6  7 16 20 21 22 23 27 28] with score = 0.9719892266256253\n",
      "best feature set so far is [ 1  4  6  7 16 20 21 22 23 27 28] with score = 0.9719892266256253\n",
      "best feature set so far is [ 1  4  6  7 16 20 21 22 23 27 28] with score = 0.9719892266256253\n",
      "\n",
      "BCA algorithm finished...\n",
      "\n",
      "Fitting the final estimator...\n"
     ]
    },
    {
     "name": "stderr",
     "output_type": "stream",
     "text": [
      "[Parallel(n_jobs=1)]: Done   5 out of   5 | elapsed:    0.0s finished\n",
      "[Parallel(n_jobs=1)]: Done   5 out of   5 | elapsed:    0.0s finished\n",
      "[Parallel(n_jobs=1)]: Done   5 out of   5 | elapsed:    0.0s finished\n",
      "[Parallel(n_jobs=1)]: Done   5 out of   5 | elapsed:    0.0s finished\n",
      "[Parallel(n_jobs=1)]: Done   5 out of   5 | elapsed:    0.0s finished\n",
      "[Parallel(n_jobs=1)]: Done   5 out of   5 | elapsed:    0.0s finished\n"
     ]
    }
   ],
   "source": [
    "selector.fit(X, y);"
   ]
  },
  {
   "cell_type": "code",
   "execution_count": 6,
   "metadata": {},
   "outputs": [
    {
     "name": "stdout",
     "output_type": "stream",
     "text": [
      "[ 1  4  6  7 16 20 21 22 23 27 28]\n"
     ]
    }
   ],
   "source": [
    "print(selector.features) "
   ]
  },
  {
   "cell_type": "code",
   "execution_count": 7,
   "metadata": {},
   "outputs": [
    {
     "name": "stdout",
     "output_type": "stream",
     "text": [
      "0.971989226626\n"
     ]
    }
   ],
   "source": [
    "print(selector.score) "
   ]
  },
  {
   "cell_type": "code",
   "execution_count": 8,
   "metadata": {},
   "outputs": [
    {
     "name": "stdout",
     "output_type": "stream",
     "text": [
      "[1 1 0 0 0]\n"
     ]
    }
   ],
   "source": [
    "print(selector.predict(X[20:25])) "
   ]
  },
  {
   "cell_type": "code",
   "execution_count": null,
   "metadata": {},
   "outputs": [],
   "source": []
  }
 ],
 "metadata": {
  "kernelspec": {
   "display_name": "Python 3",
   "language": "python",
   "name": "python3"
  },
  "language_info": {
   "codemirror_mode": {
    "name": "ipython",
    "version": 3
   },
   "file_extension": ".py",
   "mimetype": "text/x-python",
   "name": "python",
   "nbconvert_exporter": "python",
   "pygments_lexer": "ipython3",
   "version": "3.7.4"
  }
 },
 "nbformat": 4,
 "nbformat_minor": 4
}
