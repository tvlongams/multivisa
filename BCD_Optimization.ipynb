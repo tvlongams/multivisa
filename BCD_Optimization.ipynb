{
 "cells": [
  {
   "cell_type": "code",
   "execution_count": 1,
   "metadata": {},
   "outputs": [
    {
     "name": "stderr",
     "output_type": "stream",
     "text": [
      "C:\\Users\\tvlon\\Anaconda3\\lib\\site-packages\\sklearn\\utils\\deprecation.py:144: FutureWarning: The sklearn.neighbors.nearest_centroid module is  deprecated in version 0.22 and will be removed in version 0.24. The corresponding classes / functions should instead be imported from sklearn.neighbors. Anything that cannot be imported from sklearn.neighbors is now part of the private API.\n",
      "  warnings.warn(message, FutureWarning)\n"
     ]
    }
   ],
   "source": [
    "import pandas as pd\n",
    "import numpy as np\n",
    "from sklearn.tree import DecisionTreeClassifier\n",
    "from sklearn import tree\n",
    "import graphviz \n",
    "from pandas.plotting import radviz, parallel_coordinates\n",
    "import matplotlib.pyplot as plt\n",
    "from sklearn import metrics\n",
    "import Orange\n",
    "import matplotlib\n",
    "from sklearn.neighbors.nearest_centroid import NearestCentroid"
   ]
  },
  {
   "cell_type": "code",
   "execution_count": 2,
   "metadata": {},
   "outputs": [],
   "source": [
    "#file=\"biolab.si/lung.tab\"\n",
    "#file=\"biolab.si/braintumor.tab\"\n",
    "file=\"biolab.si/leukemia.tab\" # run\n",
    "#file=\"biolab.si/MLL.tab\" # run\n",
    "#file=\"biolab.si/lungGSE1987.tab\"\n",
    "#file=\"biolab.si/SRBCT.tab\"\n",
    "#file=\"biolab.si/prostata.tab\""
   ]
  },
  {
   "cell_type": "code",
   "execution_count": 3,
   "metadata": {},
   "outputs": [],
   "source": [
    "data=Orange.data.Table(file)\n",
    "x=data.X\n",
    "y=data.Y"
   ]
  },
  {
   "cell_type": "code",
   "execution_count": 4,
   "metadata": {},
   "outputs": [
    {
     "data": {
      "text/plain": [
       "['AFFX-BioC-5_at',\n",
       " 'hum_alu_at',\n",
       " 'AFFX-DapX-M_at',\n",
       " 'AFFX-LysX-5_at',\n",
       " 'AFFX-HUMISGF3A/M97935_MA_at']"
      ]
     },
     "execution_count": 4,
     "metadata": {},
     "output_type": "execute_result"
    }
   ],
   "source": [
    "att=data.domain.attributes\n",
    "gene_name=[data.domain.attributes[i].name for i in range(len(att)) ]\n",
    "gene_name[:5]"
   ]
  },
  {
   "cell_type": "code",
   "execution_count": 5,
   "metadata": {},
   "outputs": [
    {
     "data": {
      "text/plain": [
       "array(['ALL', 'AML'], dtype='<U3')"
      ]
     },
     "execution_count": 5,
     "metadata": {},
     "output_type": "execute_result"
    }
   ],
   "source": [
    "gene=data.domain.class_var.values\n",
    "gene_class=[data.domain.class_var.values[np.int(i)] for i in y]\n",
    "np.unique(gene_class)"
   ]
  },
  {
   "cell_type": "code",
   "execution_count": 6,
   "metadata": {},
   "outputs": [],
   "source": [
    "x=pd.DataFrame(x)\n",
    "x=(x-x.min())/(x.max()-x.min())"
   ]
  },
  {
   "cell_type": "code",
   "execution_count": 7,
   "metadata": {},
   "outputs": [
    {
     "data": {
      "text/plain": [
       "(72, 5147)"
      ]
     },
     "execution_count": 7,
     "metadata": {},
     "output_type": "execute_result"
    }
   ],
   "source": [
    "x.shape"
   ]
  },
  {
   "cell_type": "markdown",
   "metadata": {},
   "source": [
    "# Binary Coordinate Descent"
   ]
  },
  {
   "cell_type": "code",
   "execution_count": 7,
   "metadata": {},
   "outputs": [],
   "source": [
    "col=x.columns.values\n",
    "p=len(col)\n",
    "subset=np.zeros(p,dtype=bool)\n",
    "m=4\n",
    "sub=col[subset]\n",
    "select=col[range(m)]\n",
    "\n",
    "\n",
    "X=x[select].values\n",
    "score=metrics.silhouette_score(X, y) \n"
   ]
  },
  {
   "cell_type": "code",
   "execution_count": 18,
   "metadata": {},
   "outputs": [],
   "source": [
    "clf = NearestCentroid()"
   ]
  },
  {
   "cell_type": "code",
   "execution_count": 19,
   "metadata": {},
   "outputs": [],
   "source": [
    "def Fitness(x,y,subset):\n",
    "    col=x.columns.values\n",
    "    sub=col[subset]\n",
    "    m=len(sub)\n",
    "    if m==0:\n",
    "        score=-1.0\n",
    "    else:\n",
    "        X=x[sub].values#.reshape(1,-1)\n",
    "        #score=metrics.silhouette_score(X,y)\n",
    "        clf.fit(X,y)\n",
    "        score=clf.score(X,y)\n",
    "    return score"
   ]
  },
  {
   "cell_type": "code",
   "execution_count": 46,
   "metadata": {},
   "outputs": [],
   "source": [
    "sil=np.zeros(p)\n",
    "\n",
    "for i in range(p):\n",
    "    sub=col[i]\n",
    "    X=np.array([x[sub].values,x[sub].values]).T\n",
    "    \n",
    "    \n",
    "    score=metrics.silhouette_score(X,y)\n",
    "    sil[i]=score\n",
    "    "
   ]
  },
  {
   "cell_type": "code",
   "execution_count": 48,
   "metadata": {},
   "outputs": [
    {
     "data": {
      "text/plain": [
       "array([ 0.0882082 ,  0.03018167, -0.06331655, -0.04602942,  0.07699009])"
      ]
     },
     "execution_count": 48,
     "metadata": {},
     "output_type": "execute_result"
    }
   ],
   "source": [
    "sil[:5]\n"
   ]
  },
  {
   "cell_type": "code",
   "execution_count": 49,
   "metadata": {},
   "outputs": [
    {
     "data": {
      "text/plain": [
       "1673"
      ]
     },
     "execution_count": 49,
     "metadata": {},
     "output_type": "execute_result"
    }
   ],
   "source": [
    "np.argmax(sil)"
   ]
  },
  {
   "cell_type": "markdown",
   "metadata": {},
   "source": [
    ">>> import heapq\n",
    ">>> import numpy\n",
    ">>> a = numpy.array([1, 3, 2, 4, 5])\n",
    ">>> heapq.nlargest(3, range(len(a)), a.take)\n",
    "[4, 3, 1]\n"
   ]
  },
  {
   "cell_type": "code",
   "execution_count": 50,
   "metadata": {},
   "outputs": [],
   "source": [
    "import heapq"
   ]
  },
  {
   "cell_type": "code",
   "execution_count": 60,
   "metadata": {},
   "outputs": [],
   "source": [
    "subset=heapq.nlargest(3,range(len(sil)),sil.take)"
   ]
  },
  {
   "cell_type": "code",
   "execution_count": 61,
   "metadata": {},
   "outputs": [
    {
     "data": {
      "text/plain": [
       "array([ 0.64713495,  0.63246229,  0.60518113])"
      ]
     },
     "execution_count": 61,
     "metadata": {},
     "output_type": "execute_result"
    }
   ],
   "source": [
    "sil[subset]"
   ]
  },
  {
   "cell_type": "code",
   "execution_count": null,
   "metadata": {},
   "outputs": [],
   "source": []
  },
  {
   "cell_type": "code",
   "execution_count": 20,
   "metadata": {},
   "outputs": [
    {
     "name": "stdout",
     "output_type": "stream",
     "text": [
      "0.986111111111 [   0    1    2    5   16   17   18   20   24   27   45   74   75   79   80\n",
      "   82   87   88  123  158  523  571 1882 5146]\n",
      "0.986111111111 [   0    1    2    5   16   17   18   20   24   27   45   74   75   79   80\n",
      "   82   87   88  123  158  523  571 1882 5146]\n"
     ]
    }
   ],
   "source": [
    "# Optimization\n",
    "col=x.columns.values\n",
    "p=len(x.columns.values) # number of attributes\n",
    "subset=np.zeros(p,dtype=bool) # initial vectors\n",
    "tol=1E-10\n",
    "stop=0\n",
    "F_opt=Fitness(x,y,subset)\n",
    "\n",
    "while stop==0:\n",
    "    F_best=F_opt\n",
    "    best=subset.copy()\n",
    "    for i in range(p):\n",
    "        sub_opt=subset.copy()\n",
    "        sub_opt[i]=not sub_opt[i] # new candidate\n",
    "        F_new=Fitness(x,y,sub_opt)\n",
    "        if (F_opt<F_new):\n",
    "            F_opt=F_new\n",
    "            subset=sub_opt.copy()\n",
    "    best=sub_opt\n",
    "    print(F_opt,col[best])\n",
    "    if F_best==F_opt:\n",
    "        stop=1\n",
    "    #print('optimal: ', F_best,col[best])"
   ]
  },
  {
   "cell_type": "code",
   "execution_count": 21,
   "metadata": {},
   "outputs": [],
   "source": [
    "subset=col[best]"
   ]
  },
  {
   "cell_type": "code",
   "execution_count": 22,
   "metadata": {},
   "outputs": [
    {
     "data": {
      "text/plain": [
       "array([   0,    1,    2,    5,   16,   17,   18,   20,   24,   27,   45,\n",
       "         74,   75,   79,   80,   82,   87,   88,  123,  158,  523,  571,\n",
       "       1882, 5146], dtype=int64)"
      ]
     },
     "execution_count": 22,
     "metadata": {},
     "output_type": "execute_result"
    }
   ],
   "source": [
    "subset"
   ]
  },
  {
   "cell_type": "code",
   "execution_count": 12,
   "metadata": {},
   "outputs": [],
   "source": [
    "def cradviz(x,alpha):\n",
    "    #alpha\n",
    "    m=len(x)\n",
    "    #theta=np.zeros(m)\n",
    "    #for i in range(m):\n",
    "    #    theta[i]=alpha[i]#*x[i]+alpha[i,1]*(1-x[i])\n",
    "    \n",
    "    anchor=np.array([np.cos(alpha),np.sin(alpha)])\n",
    "    if np.sum(x)!=0.0:\n",
    "        p=np.dot(anchor,x)/np.sum(x)\n",
    "    else:\n",
    "        p=np.zeros(2)\n",
    "    return p"
   ]
  },
  {
   "cell_type": "code",
   "execution_count": 13,
   "metadata": {},
   "outputs": [],
   "source": [
    "def circleradviz(X,a):\n",
    "\t#p=sum \n",
    "\t(n,m)=X.shape\n",
    "\tY=np.zeros((n,2))\n",
    "\tfor i in range(n):\n",
    "\t\tY[i]=cradviz(X[i],a)\n",
    "\treturn Y"
   ]
  },
  {
   "cell_type": "code",
   "execution_count": 14,
   "metadata": {},
   "outputs": [],
   "source": [
    "def DimensionAnchor(m):\n",
    "    an=np.zeros(m)\n",
    "    for i in range(m):\n",
    "        an[i]=i*np.pi*2/m\n",
    "    return an"
   ]
  },
  {
   "cell_type": "code",
   "execution_count": 24,
   "metadata": {},
   "outputs": [],
   "source": [
    "#subset=[1292, 1335, 1374, 1673, 5146]\n",
    "m=len(subset)\n",
    "anchor=DimensionAnchor(m)\n",
    "select=subset"
   ]
  },
  {
   "cell_type": "code",
   "execution_count": 89,
   "metadata": {},
   "outputs": [],
   "source": [
    "#select=[1292, 1335, 1374, 1673, 5146]"
   ]
  },
  {
   "cell_type": "code",
   "execution_count": 25,
   "metadata": {},
   "outputs": [
    {
     "name": "stdout",
     "output_type": "stream",
     "text": [
      "Score:  0.198178652554\n"
     ]
    },
    {
     "data": {
      "image/png": "[encoded data removed]",
      "text/plain": [
       "<Figure size 720x720 with 1 Axes>"
      ]
     },
     "metadata": {},
     "output_type": "display_data"
    }
   ],
   "source": [
    "#select=best_select#[1293, 1556, 4517, 1727, 5058, 1375]\n",
    "X=x[select].values\n",
    "Y=circleradviz(X,anchor)\n",
    "\n",
    "best_score=metrics.silhouette_score(Y, y, metric='sqeuclidean') \n",
    "print('Score: ', best_score)\n",
    "\n",
    "# define color\n",
    "classes=np.unique(y)\n",
    "#colors=plt.cm.rainbow(np.linspace(0,1,len(classes)))\n",
    "colors=['b', 'g', 'r', 'c', 'm', 'y', 'k', 'w']\n",
    "markers=['x','o','v','^','>','<','s','p','h']\n",
    "cm = matplotlib.colors.ListedColormap(colors)\n",
    "\n",
    "plt.figure(figsize=(10,10))\n",
    "cy=pd.factorize(y)[0]\n",
    "t=np.linspace(0,2*np.pi,100)\n",
    "plt.plot(np.cos(t),np.sin(t))\n",
    "\n",
    "\n",
    "for i in range(m):\n",
    "    al=anchor[i]\n",
    "    r=1.05\n",
    "    #plt.text(r*np.cos(al),r*np.sin(al),gene_name[select[i]],rotation=i*360/m,rotation_mode='anchor')\n",
    "    plt.text(r*np.cos(al),r*np.sin(al),str(select[i]),rotation=i*360/m,rotation_mode='anchor')\n",
    "    plt.scatter(np.cos(al),np.sin(al),c='r')\n",
    "\n",
    "#plt.scatter(Y[:,0],Y[:,1],c=y,cmap=cm,marker='x',s=20)\n",
    "for g in classes:\n",
    "    YY=Y[y==g]\n",
    "    #plt.scatter(YY[:,0],YY[:,1],c=colors[np.int(g)],marker=markers[np.int(g)],s=20,label=gene[np.int(g)])\n",
    "    plt.scatter(YY[:,0],YY[:,1],c=colors[np.int(g)],marker=markers[np.int(g)],s=20,label=gene[np.int(g)])\n",
    "    \n",
    "plt.legend()\n",
    "\n",
    "plt.xlim(-1.3,1.3)\n",
    "plt.ylim(-1.3,1.3)\n",
    "\n",
    "plt.axis('off')\n",
    "#plt.savefig(file[10:][:-3]+'png')\n",
    "plt.show()"
   ]
  },
  {
   "cell_type": "code",
   "execution_count": 93,
   "metadata": {},
   "outputs": [
    {
     "data": {
      "text/plain": [
       "'5leukemia.png'"
      ]
     },
     "execution_count": 93,
     "metadata": {},
     "output_type": "execute_result"
    }
   ],
   "source": [
    "str(m)+file[10:][:-3]+'png'"
   ]
  },
  {
   "cell_type": "code",
   "execution_count": null,
   "metadata": {},
   "outputs": [],
   "source": []
  },
  {
   "cell_type": "code",
   "execution_count": null,
   "metadata": {},
   "outputs": [],
   "source": []
  },
  {
   "cell_type": "code",
   "execution_count": null,
   "metadata": {},
   "outputs": [],
   "source": []
  },
  {
   "cell_type": "code",
   "execution_count": 9,
   "metadata": {},
   "outputs": [],
   "source": [
    "from sklearn import random_projection as RP"
   ]
  },
  {
   "cell_type": "code",
   "execution_count": null,
   "metadata": {},
   "outputs": [],
   "source": [
    "random_projection."
   ]
  }
 ],
 "metadata": {
  "kernelspec": {
   "display_name": "Python 3",
   "language": "python",
   "name": "python3"
  },
  "language_info": {
   "codemirror_mode": {
    "name": "ipython",
    "version": 3
   },
   "file_extension": ".py",
   "mimetype": "text/x-python",
   "name": "python",
   "nbconvert_exporter": "python",
   "pygments_lexer": "ipython3",
   "version": "3.7.4"
  }
 },
 "nbformat": 4,
 "nbformat_minor": 4
}
