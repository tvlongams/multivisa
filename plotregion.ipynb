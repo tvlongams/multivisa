{
 "cells": [
  {
   "cell_type": "code",
   "execution_count": 2,
   "metadata": {},
   "outputs": [],
   "source": [
    "import matplotlib.pyplot as plt\n",
    "import numpy as np\n",
    "from scipy.ndimage.morphology import binary_erosion\n",
    "from scipy.spatial import Voronoi\n",
    "from shapely.geometry import Point, Polygon\n",
    "from skimage import draw\n",
    "from sklearn.neighbors import KDTree"
   ]
  },
  {
   "cell_type": "code",
   "execution_count": 2,
   "metadata": {},
   "outputs": [],
   "source": [
    "def voronoi_finite_polygons_2d(vor, radius=None):\n",
    "    \"\"\"\n",
    "    Reconstruct infinite voronoi regions in a 2D diagram to finite\n",
    "    regions.\n",
    "    Parameters\n",
    "    ----------\n",
    "    vor : Voronoi\n",
    "        Input diagram\n",
    "    radius : float, optional\n",
    "        Distance to 'points at infinity'.\n",
    "    Returns\n",
    "    -------\n",
    "    regions : list of tuples\n",
    "        Indices of vertices in each revised Voronoi regions.\n",
    "    vertices : list of tuples\n",
    "        Coordinates for revised Voronoi vertices. Same as coordinates\n",
    "        of input vertices, with 'points at infinity' appended to the\n",
    "        end.\n",
    "    \"\"\"\n",
    "\n",
    "    if vor.points.shape[1] != 2:\n",
    "        raise ValueError(\"Requires 2D input\")\n",
    "\n",
    "    new_regions = []\n",
    "    new_vertices = vor.vertices.tolist()\n",
    "\n",
    "    center = vor.points.mean(axis=0)\n",
    "    if radius is None:\n",
    "        radius = vor.points.ptp().max()*2\n",
    "\n",
    "    # Construct a map containing all ridges for a given point\n",
    "    all_ridges = {}\n",
    "    for (p1, p2), (v1, v2) in zip(vor.ridge_points, vor.ridge_vertices):\n",
    "        all_ridges.setdefault(p1, []).append((p2, v1, v2))\n",
    "        all_ridges.setdefault(p2, []).append((p1, v1, v2))\n",
    "\n",
    "    # Reconstruct infinite regions\n",
    "    for p1, region in enumerate(vor.point_region):\n",
    "        vertices = vor.regions[region]\n",
    "\n",
    "        if all(v >= 0 for v in vertices):\n",
    "            # finite region\n",
    "            new_regions.append(vertices)\n",
    "            continue\n",
    "\n",
    "        # reconstruct a non-finite region\n",
    "        ridges = all_ridges[p1]\n",
    "        new_region = [v for v in vertices if v >= 0]\n",
    "\n",
    "        for p2, v1, v2 in ridges:\n",
    "            if v2 < 0:\n",
    "                v1, v2 = v2, v1\n",
    "            if v1 >= 0:\n",
    "                # finite ridge: already in the region\n",
    "                continue\n",
    "\n",
    "            # Compute the missing endpoint of an infinite ridge\n",
    "\n",
    "            t = vor.points[p2] - vor.points[p1] # tangent\n",
    "            t /= np.linalg.norm(t)\n",
    "            n = np.array([-t[1], t[0]])  # normal\n",
    "\n",
    "            midpoint = vor.points[[p1, p2]].mean(axis=0)\n",
    "            direction = np.sign(np.dot(midpoint - center, n)) * n\n",
    "            far_point = vor.vertices[v2] + direction * radius\n",
    "\n",
    "            new_region.append(len(new_vertices))\n",
    "            new_vertices.append(far_point.tolist())\n",
    "\n",
    "        # sort region counterclockwise\n",
    "        vs = np.asarray([new_vertices[v] for v in new_region])\n",
    "        c = vs.mean(axis=0)\n",
    "        angles = np.arctan2(vs[:,1] - c[1], vs[:,0] - c[0])\n",
    "        new_region = np.array(new_region)[np.argsort(angles)]\n",
    "\n",
    "        # finish\n",
    "        new_regions.append(new_region.tolist())\n",
    "\n",
    "    return new_regions, np.asarray(new_vertices)"
   ]
  },
  {
   "cell_type": "code",
   "execution_count": 67,
   "metadata": {},
   "outputs": [],
   "source": [
    "np.random.seed(1234)\n",
    "#points = np.random.rand(3, 2)\n",
    "\n",
    "points=np.array([[-0.5,-0.4],[0.2,0.5],[0.6,0.1],[-0.4,0.5]])\n",
    "# compute Voronoi tesselation\n",
    "vor = Voronoi(points)\n",
    "regions, vertices = voronoi_finite_polygons_2d(vor)"
   ]
  },
  {
   "cell_type": "code",
   "execution_count": 22,
   "metadata": {},
   "outputs": [
    {
     "data": {
      "image/png": "[encoded data removed]",
      "text/plain": [
       "<Figure size 432x432 with 1 Axes>"
      ]
     },
     "metadata": {},
     "output_type": "display_data"
    }
   ],
   "source": [
    "# colorize\n",
    "plt.figure(figsize=(6,6))\n",
    "\n",
    "for region in regions:\n",
    "    polygon = vertices[region]\n",
    "    plt.fill(*zip(*polygon), alpha=0.5)\n",
    "\n",
    "plt.plot(points[:,0], points[:,1], 'ro')\n",
    "\n",
    "plt.axis('equal')\n",
    "plt.xlim(-1, 1)\n",
    "plt.ylim(-1, 1)\n",
    "\n",
    "#plt.savefig('voro.png')\n",
    "plt.show()"
   ]
  },
  {
   "cell_type": "code",
   "execution_count": 23,
   "metadata": {},
   "outputs": [
    {
     "data": {
      "text/plain": [
       "[[2, 0, 1], [0, 3, 4], [6, 5, 0]]"
      ]
     },
     "execution_count": 23,
     "metadata": {},
     "output_type": "execute_result"
    }
   ],
   "source": [
    "regions"
   ]
  },
  {
   "cell_type": "code",
   "execution_count": 24,
   "metadata": {},
   "outputs": [
    {
     "data": {
      "text/plain": [
       "array([[ 0.01875   , -0.08125   ],\n",
       "       [-1.71782488,  1.26941935],\n",
       "       [ 0.92911648, -2.08405625],\n",
       "       [ 1.57438492,  1.47438492],\n",
       "       [-1.71782488,  1.26941935],\n",
       "       [ 1.57438492,  1.47438492],\n",
       "       [ 0.92911648, -2.08405625]])"
      ]
     },
     "execution_count": 24,
     "metadata": {},
     "output_type": "execute_result"
    }
   ],
   "source": [
    "vertices"
   ]
  },
  {
   "cell_type": "code",
   "execution_count": 25,
   "metadata": {},
   "outputs": [],
   "source": [
    "polygon=vertices[regions[0]]"
   ]
  },
  {
   "cell_type": "code",
   "execution_count": 26,
   "metadata": {},
   "outputs": [
    {
     "data": {
      "text/plain": [
       "array([[ 0.92911648, -2.08405625],\n",
       "       [ 0.01875   , -0.08125   ],\n",
       "       [-1.71782488,  1.26941935]])"
      ]
     },
     "execution_count": 26,
     "metadata": {},
     "output_type": "execute_result"
    }
   ],
   "source": [
    "polygon"
   ]
  },
  {
   "cell_type": "code",
   "execution_count": 35,
   "metadata": {},
   "outputs": [
    {
     "data": {
      "image/png": "[encoded data removed]",
      "text/plain": [
       "<Figure size 432x432 with 1 Axes>"
      ]
     },
     "metadata": {},
     "output_type": "display_data"
    }
   ],
   "source": [
    "# colorize\n",
    "regions, vertices = voronoi_finite_polygons_2d(vor,2.0)\n",
    "\n",
    "plt.figure(figsize=(6,6))\n",
    "\n",
    "for region in regions:\n",
    "    polygon = vertices[region]\n",
    "    \n",
    "    #plt.plot(polygon[:,0],polygon[:,1])\n",
    "    plt.fill(polygon[:,0],polygon[:,1])\n",
    "    \n",
    "    #plt.fill(*zip(*polygon), alpha=0.5)\n",
    "\n",
    "plt.plot(points[:,0], points[:,1], 'ro')\n",
    "\n",
    "plt.axis('equal')\n",
    "plt.xlim(-2, 2)\n",
    "plt.ylim(-2, 2)\n",
    "\n",
    "#plt.savefig('voro.png')\n",
    "plt.show()"
   ]
  },
  {
   "cell_type": "code",
   "execution_count": 36,
   "metadata": {},
   "outputs": [],
   "source": [
    "from scipy.spatial import Voronoi, voronoi_plot_2d"
   ]
  },
  {
   "cell_type": "code",
   "execution_count": 124,
   "metadata": {},
   "outputs": [],
   "source": [
    "#points=np.array([[-0.5,-0.4],[0.2,0.5],[0.6,0.1],[-0.4,0.5]])\n",
    "points=np.array([[-0.5,-0.4],[0.2,0.5],[-0.4,0.5]])\n",
    "# compute Voronoi tesselation\n",
    "vor = Voronoi(points)\n"
   ]
  },
  {
   "cell_type": "code",
   "execution_count": 125,
   "metadata": {},
   "outputs": [
    {
     "data": {
      "text/plain": [
       "<Figure size 432x432 with 0 Axes>"
      ]
     },
     "metadata": {},
     "output_type": "display_data"
    },
    {
     "data": {
      "image/png": "[encoded data removed]",
      "text/plain": [
       "<Figure size 432x288 with 1 Axes>"
      ]
     },
     "metadata": {},
     "output_type": "display_data"
    }
   ],
   "source": [
    "plt.figure(figsize=(6,6))\n",
    "voronoi_plot_2d(vor)\n",
    "plt.xlim(-2,2)\n",
    "plt.ylim(-2,2)\n",
    "plt.show()"
   ]
  },
  {
   "cell_type": "code",
   "execution_count": 42,
   "metadata": {},
   "outputs": [
    {
     "data": {
      "text/plain": [
       "array([[ 0.01875, -0.08125]])"
      ]
     },
     "execution_count": 42,
     "metadata": {},
     "output_type": "execute_result"
    }
   ],
   "source": [
    "vor.vertices"
   ]
  },
  {
   "cell_type": "code",
   "execution_count": 43,
   "metadata": {},
   "outputs": [
    {
     "data": {
      "text/plain": [
       "[[], [-1, 0], [-1, 0], [-1, 0]]"
      ]
     },
     "execution_count": 43,
     "metadata": {},
     "output_type": "execute_result"
    }
   ],
   "source": [
    "vor.regions"
   ]
  },
  {
   "cell_type": "code",
   "execution_count": 44,
   "metadata": {},
   "outputs": [
    {
     "data": {
      "text/plain": [
       "array([[-0.5, -0.4],\n",
       "       [ 0.2,  0.5],\n",
       "       [ 0.6,  0.1]])"
      ]
     },
     "execution_count": 44,
     "metadata": {},
     "output_type": "execute_result"
    }
   ],
   "source": [
    "vor.points"
   ]
  },
  {
   "cell_type": "code",
   "execution_count": 47,
   "metadata": {},
   "outputs": [
    {
     "data": {
      "text/plain": [
       "array([3, 1, 2], dtype=int64)"
      ]
     },
     "execution_count": 47,
     "metadata": {},
     "output_type": "execute_result"
    }
   ],
   "source": [
    "vor.point_region"
   ]
  },
  {
   "cell_type": "code",
   "execution_count": 48,
   "metadata": {},
   "outputs": [
    {
     "data": {
      "text/plain": [
       "array([[1, 2],\n",
       "       [1, 0],\n",
       "       [2, 0]], dtype=int32)"
      ]
     },
     "execution_count": 48,
     "metadata": {},
     "output_type": "execute_result"
    }
   ],
   "source": [
    "vor.ridge_points"
   ]
  },
  {
   "cell_type": "code",
   "execution_count": 49,
   "metadata": {},
   "outputs": [
    {
     "data": {
      "text/plain": [
       "[[-1, 0], [-1, 0], [-1, 0]]"
      ]
     },
     "execution_count": 49,
     "metadata": {},
     "output_type": "execute_result"
    }
   ],
   "source": [
    "vor.ridge_vertices"
   ]
  },
  {
   "cell_type": "code",
   "execution_count": 50,
   "metadata": {},
   "outputs": [
    {
     "data": {
      "text/plain": [
       "3"
      ]
     },
     "execution_count": 50,
     "metadata": {},
     "output_type": "execute_result"
    }
   ],
   "source": [
    "vor.npoints"
   ]
  },
  {
   "cell_type": "code",
   "execution_count": 51,
   "metadata": {},
   "outputs": [
    {
     "data": {
      "text/plain": [
       "{(1, 0): [-1, 0], (1, 2): [-1, 0], (2, 0): [-1, 0]}"
      ]
     },
     "execution_count": 51,
     "metadata": {},
     "output_type": "execute_result"
    }
   ],
   "source": [
    "vor.ridge_dict"
   ]
  },
  {
   "cell_type": "code",
   "execution_count": 52,
   "metadata": {},
   "outputs": [
    {
     "data": {
      "text/plain": [
       "array([ 0.6,  0.5])"
      ]
     },
     "execution_count": 52,
     "metadata": {},
     "output_type": "execute_result"
    }
   ],
   "source": [
    "vor.max_bound"
   ]
  },
  {
   "cell_type": "code",
   "execution_count": 53,
   "metadata": {},
   "outputs": [
    {
     "data": {
      "text/plain": [
       "array([-0.5, -0.4])"
      ]
     },
     "execution_count": 53,
     "metadata": {},
     "output_type": "execute_result"
    }
   ],
   "source": [
    "vor.min_bound"
   ]
  },
  {
   "cell_type": "code",
   "execution_count": 54,
   "metadata": {},
   "outputs": [],
   "source": [
    "line_segments = []\n",
    "for simplex in vor.ridge_vertices:\n",
    "    simplex = np.asarray(simplex)\n",
    "    if np.all(simplex >= 0):\n",
    "        line_segments.append([(x, y) for x, y in vor.vertices[simplex]])"
   ]
  },
  {
   "cell_type": "code",
   "execution_count": 55,
   "metadata": {},
   "outputs": [
    {
     "data": {
      "text/plain": [
       "[]"
      ]
     },
     "execution_count": 55,
     "metadata": {},
     "output_type": "execute_result"
    }
   ],
   "source": [
    "line_segments"
   ]
  },
  {
   "cell_type": "code",
   "execution_count": 62,
   "metadata": {},
   "outputs": [],
   "source": [
    "def get_dash_line(vor):\n",
    "    line_segments = []\n",
    "    center = vor.points.mean(axis=0)\n",
    "    ptp_bound = vor.points.ptp(axis=0)\n",
    "    for pointidx, simplex in zip(vor.ridge_points, vor.ridge_vertices):\n",
    "        simplex = np.asarray(simplex)\n",
    "        if np.any(simplex < 0):\n",
    "            i = simplex[simplex >= 0][0]  # finite end Voronoi vertex\n",
    "\n",
    "            t = vor.points[pointidx[1]] - vor.points[pointidx[0]]  # tangent\n",
    "            t /= np.linalg.norm(t)\n",
    "            n = np.array([-t[1], t[0]])  # normal\n",
    "\n",
    "            midpoint = vor.points[pointidx].mean(axis=0)\n",
    "            direction = np.sign(np.dot(midpoint - center, n)) * n\n",
    "            far_point = vor.vertices[i] + direction * ptp_bound.max()\n",
    "\n",
    "            line_segments.append([(vor.vertices[i, 0], vor.vertices[i, 1]),\n",
    "                                  (far_point[0], far_point[1])])\n",
    "    return line_segments"
   ]
  },
  {
   "cell_type": "code",
   "execution_count": 127,
   "metadata": {},
   "outputs": [],
   "source": [
    "line_dash=get_dash_line(vor)"
   ]
  },
  {
   "cell_type": "code",
   "execution_count": 73,
   "metadata": {},
   "outputs": [
    {
     "data": {
      "text/plain": [
       "[[(-0.099999999999999978, 0.011111111111111127),\n",
       "  (-0.099999999999999978, 1.1111111111111112)],\n",
       " [(-0.099999999999999978, 0.011111111111111127),\n",
       "  (-1.1932721081409809, 0.13258578979344229)],\n",
       " [(0.018749999999999989, -0.081250000000000044),\n",
       "  (0.79656745930520234, 0.69656745930520225)],\n",
       " [(0.018749999999999989, -0.081250000000000044),\n",
       "  (0.47393323873130239, -1.0826531252088654)]]"
      ]
     },
     "execution_count": 73,
     "metadata": {},
     "output_type": "execute_result"
    }
   ],
   "source": [
    "line_dash"
   ]
  },
  {
   "cell_type": "code",
   "execution_count": 66,
   "metadata": {},
   "outputs": [],
   "source": [
    "def get_solid_line(vor):\n",
    "    line_segments = []\n",
    "    for simplex in vor.ridge_vertices:\n",
    "        simplex = np.asarray(simplex)\n",
    "        if np.all(simplex >= 0):\n",
    "            line_segments.append([(x, y) for x, y in vor.vertices[simplex]])\n",
    "    return line_segments"
   ]
  },
  {
   "cell_type": "code",
   "execution_count": 126,
   "metadata": {},
   "outputs": [],
   "source": [
    "line_solid=get_solid_line(vor)"
   ]
  },
  {
   "cell_type": "code",
   "execution_count": 80,
   "metadata": {},
   "outputs": [],
   "source": [
    "l=line_solid[0]"
   ]
  },
  {
   "cell_type": "code",
   "execution_count": 86,
   "metadata": {},
   "outputs": [
    {
     "data": {
      "text/plain": [
       "(0.018749999999999989, -0.081250000000000044)"
      ]
     },
     "execution_count": 86,
     "metadata": {},
     "output_type": "execute_result"
    }
   ],
   "source": [
    "l[0][0],l[0][1]"
   ]
  },
  {
   "cell_type": "code",
   "execution_count": 95,
   "metadata": {},
   "outputs": [
    {
     "data": {
      "text/plain": [
       "(0.018749999999999989, -0.081250000000000044)"
      ]
     },
     "execution_count": 95,
     "metadata": {},
     "output_type": "execute_result"
    }
   ],
   "source": [
    "l[0]"
   ]
  },
  {
   "cell_type": "code",
   "execution_count": null,
   "metadata": {},
   "outputs": [],
   "source": []
  },
  {
   "cell_type": "code",
   "execution_count": null,
   "metadata": {},
   "outputs": [],
   "source": []
  },
  {
   "cell_type": "code",
   "execution_count": 128,
   "metadata": {},
   "outputs": [
    {
     "data": {
      "image/png": "[encoded data removed]",
      "text/plain": [
       "<Figure size 432x432 with 1 Axes>"
      ]
     },
     "metadata": {},
     "output_type": "display_data"
    }
   ],
   "source": [
    "plt.figure(figsize=(6,6))\n",
    "\n",
    "#voronoi_plot_2d(vor)\n",
    "\n",
    "for line in line_solid:\n",
    "    plt.plot([line[0][0],line[1][0]],[line[0][1],line[1][1]],c='r')\n",
    "    #plt.scatter([line[0][0],line[1][0]],[line[0][1],line[1][1]],c='g')\n",
    "    plt.scatter(line[0][0],line[0][1],c='g')\n",
    "    plt.scatter(line[1][0],line[1][1],c='g')\n",
    "\n",
    "for line in line_dash:\n",
    "    #plt.plot(line[0],line[1],c='b')\n",
    "    plt.plot([line[0][0],line[1][0]],[line[0][1],line[1][1]],c='b')\n",
    "\n",
    "t=np.linspace(0,2*np.pi,100)\n",
    "plt.plot(np.cos(t),np.sin(t))\n",
    "    \n",
    "plt.xlim(-1.1,1.1)\n",
    "plt.ylim(-1.1,1.1)\n",
    "plt.show()"
   ]
  },
  {
   "cell_type": "code",
   "execution_count": 129,
   "metadata": {},
   "outputs": [
    {
     "data": {
      "image/png": "[encoded data removed]",
      "text/plain": [
       "<Figure size 432x432 with 1 Axes>"
      ]
     },
     "metadata": {},
     "output_type": "display_data"
    }
   ],
   "source": [
    "plt.figure(figsize=(6,6))\n",
    "\n",
    "#voronoi_plot_2d(vor)\n",
    "\n",
    "for line in line_solid:\n",
    "    plt.plot([line[0][0],line[1][0]],[line[0][1],line[1][1]],c='r')\n",
    "    #plt.scatter([line[0][0],line[1][0]],[line[0][1],line[1][1]],c='g')\n",
    "    plt.scatter(line[0][0],line[0][1],c='g')\n",
    "    plt.scatter(line[1][0],line[1][1],c='g')\n",
    "\n",
    "for line in line_dash:\n",
    "    #plt.plot(line[0],line[1],c='b')\n",
    "    x1=line[0][0]\n",
    "    y1=line[0][1]\n",
    "    x2=line[1][0]\n",
    "    y2=line[1][1]\n",
    "    #plt.plot([x1,x2],[y1,y2],c='b')\n",
    "    li=intersect_circle(x1,y1,x2-x1,y2-y1)\n",
    "    plt.plot([li[0][0],li[1][0]],[li[0][1],li[1][1]],c='b')\n",
    "\n",
    "t=np.linspace(0,2*np.pi,100)\n",
    "plt.plot(np.cos(t),np.sin(t))\n",
    "    \n",
    "plt.scatter(points[:,0],points[:,1],c='k')\n",
    "    \n",
    "plt.xlim(-1.1,1.1)\n",
    "plt.ylim(-1.1,1.1)\n",
    "plt.show()"
   ]
  },
  {
   "cell_type": "code",
   "execution_count": 106,
   "metadata": {},
   "outputs": [],
   "source": [
    "def intersect_circle1(x0,y0,a,b):\n",
    "    delta=(a*a+b*b)*(1-x0*x0-y0*y0)\n",
    "    t=(-(a*x0+b*y0)+np.sqrt(delta))/(a*a+b*b)\n",
    "    x1=x0+t*a\n",
    "    y1=y0+t*b\n",
    "    return [(x0,y0),(x1,y1)]"
   ]
  },
  {
   "cell_type": "code",
   "execution_count": 111,
   "metadata": {},
   "outputs": [],
   "source": [
    "line=line_dash[0]\n",
    "x1=line[0][0]\n",
    "y1=line[0][1]\n",
    "x2=line[1][0]\n",
    "y2=line[1][1]"
   ]
  },
  {
   "cell_type": "code",
   "execution_count": 112,
   "metadata": {},
   "outputs": [],
   "source": [
    "x0=x1\n",
    "y0=y1\n",
    "a=x2-x1\n",
    "b=y2-y1"
   ]
  },
  {
   "cell_type": "code",
   "execution_count": 113,
   "metadata": {},
   "outputs": [],
   "source": [
    "l=intersect_circle(x0,y0,a,b)"
   ]
  },
  {
   "cell_type": "code",
   "execution_count": 114,
   "metadata": {},
   "outputs": [
    {
     "data": {
      "text/plain": [
       "[(-0.099999999999999978, 0.011111111111111127),\n",
       " (-0.099999999999999978, 0.99492539580105044)]"
      ]
     },
     "execution_count": 114,
     "metadata": {},
     "output_type": "execute_result"
    }
   ],
   "source": [
    "l"
   ]
  },
  {
   "cell_type": "code",
   "execution_count": 117,
   "metadata": {},
   "outputs": [
    {
     "data": {
      "text/plain": [
       "0.99987654320987684"
      ]
     },
     "execution_count": 117,
     "metadata": {},
     "output_type": "execute_result"
    }
   ],
   "source": [
    "l[1][0]*l[1][0]+l[1][1]*l[1][1]"
   ]
  },
  {
   "cell_type": "code",
   "execution_count": 118,
   "metadata": {},
   "outputs": [
    {
     "data": {
      "text/plain": [
       "[(-0.099999999999999978, 0.011111111111111127),\n",
       " (-0.099999999999999978, 1.1111111111111112)]"
      ]
     },
     "execution_count": 118,
     "metadata": {},
     "output_type": "execute_result"
    }
   ],
   "source": [
    "line"
   ]
  },
  {
   "cell_type": "code",
   "execution_count": 4,
   "metadata": {},
   "outputs": [
    {
     "data": {
      "image/png": "[encoded data removed]",
      "text/plain": [
       "<Figure size 432x288 with 1 Axes>"
      ]
     },
     "metadata": {},
     "output_type": "display_data"
    }
   ],
   "source": [
    "import matplotlib.pyplot as plt\n",
    "\n",
    "data = np.random.random(size=(3, 3))\n",
    "\n",
    "plt.imshow(data, interpolation='nearest')\n",
    "plt.xticks(np.arange(0.0, 2.5, 1), np.arange(0.5, 2, 0.5))\n",
    "plt.yticks(np.arange(2, -0.5, -1), np.arange(0.5, 2, 0.5))\n",
    "\n",
    "plt.show()"
   ]
  },
  {
   "cell_type": "code",
   "execution_count": 8,
   "metadata": {},
   "outputs": [
    {
     "data": {
      "image/png": "[encoded data removed]",
      "text/plain": [
       "<Figure size 432x288 with 1 Axes>"
      ]
     },
     "metadata": {},
     "output_type": "display_data"
    }
   ],
   "source": [
    "t = np.zeros((50, 50))\n",
    "t[10, 10] = 1\n",
    "t[10, 20] = 5\n",
    "plt.imshow(t, vmin=0, vmax=1, interpolation='nearest')\n",
    "plt.show()"
   ]
  },
  {
   "cell_type": "code",
   "execution_count": null,
   "metadata": {},
   "outputs": [],
   "source": []
  }
 ],
 "metadata": {
  "kernelspec": {
   "display_name": "Python 3",
   "language": "python",
   "name": "python3"
  },
  "language_info": {
   "codemirror_mode": {
    "name": "ipython",
    "version": 3
   },
   "file_extension": ".py",
   "mimetype": "text/x-python",
   "name": "python",
   "nbconvert_exporter": "python",
   "pygments_lexer": "ipython3",
   "version": "3.5.3"
  }
 },
 "nbformat": 4,
 "nbformat_minor": 2
}
