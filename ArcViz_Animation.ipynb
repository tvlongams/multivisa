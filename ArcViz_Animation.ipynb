{
 "cells": [
  {
   "cell_type": "code",
   "execution_count": 1,
   "metadata": {},
   "outputs": [],
   "source": [
    "from ipywidgets import interact, interactive, IntSlider, Layout, interact_manual\n",
    "import ipywidgets as widgets\n",
    "from IPython.display import display\n",
    "import numpy as np\n",
    "import matplotlib.pyplot as plt\n",
    "#%matplotlib inline\n",
    "import pandas as pd\n",
    "from sklearn.discriminant_analysis import LinearDiscriminantAnalysis as LDA"
   ]
  },
  {
   "cell_type": "code",
   "execution_count": 2,
   "metadata": {},
   "outputs": [],
   "source": [
    "from datasets import *"
   ]
  },
  {
   "cell_type": "code",
   "execution_count": 3,
   "metadata": {},
   "outputs": [],
   "source": [
    "(x,y)=DATA['iris']"
   ]
  },
  {
   "cell_type": "code",
   "execution_count": 5,
   "metadata": {},
   "outputs": [],
   "source": [
    "def normalize_cols(m):\n",
    "    col_max=m.max(axis=0)\n",
    "    col_min=m.min(axis=0)\n",
    "    return (m-col_min)/(col_max-col_min)"
   ]
  },
  {
   "cell_type": "code",
   "execution_count": 6,
   "metadata": {},
   "outputs": [],
   "source": [
    "x=normalize_cols(x)"
   ]
  },
  {
   "cell_type": "code",
   "execution_count": 7,
   "metadata": {},
   "outputs": [],
   "source": [
    "(n,m)=x.shape"
   ]
  },
  {
   "cell_type": "code",
   "execution_count": 8,
   "metadata": {},
   "outputs": [],
   "source": [
    "import matplotlib\n",
    "classes=np.unique(y)\n",
    "colors=matplotlib.pyplot.cm.gist_rainbow(np.linspace(0,1,len(classes)))\n",
    "#colors=matplotlib.pyplot.cm.rainbow(np.linspace(0,1,len(classes)))\n",
    "cm = matplotlib.colors.ListedColormap(colors)\n",
    "axiscolors=matplotlib.pyplot.cm.rainbow(np.linspace(0,1,m))"
   ]
  },
  {
   "cell_type": "code",
   "execution_count": 9,
   "metadata": {},
   "outputs": [],
   "source": [
    "def Arcviz(x,alpha,pm):\n",
    "\t#alpha\n",
    "\tm=len(x)\n",
    "\ttheta=np.zeros(m)\n",
    "\t\n",
    "\tfor i in range(m):\n",
    "\t\ttheta[i]=alpha[pm[i]]*x[pm[i]]+alpha[pm[(i+1)%m]]*(1.0-x[pm[i]])\n",
    "\t\t\n",
    "\tanchor=np.array([np.cos(theta),np.sin(theta)])\n",
    "\tpx=np.dot(anchor,x)/np.sum(x)\n",
    "\treturn px"
   ]
  },
  {
   "cell_type": "code",
   "execution_count": 10,
   "metadata": {},
   "outputs": [],
   "source": [
    "def circleradviz(X,a):\n",
    "\t#p=sum \n",
    "\t(n,m)=X.shape\n",
    "\tY=np.zeros((n,2))\n",
    "\talpha=a\n",
    "\torder=np.argsort(a)\n",
    "\tfor i in range(n):\n",
    "\t\tY[i]=Arcviz(X[i],alpha,order)\n",
    "\treturn Y"
   ]
  },
  {
   "cell_type": "code",
   "execution_count": 11,
   "metadata": {},
   "outputs": [],
   "source": [
    "def Classifier(x,y):\n",
    "\tclf=LDA()\n",
    "\tclf.fit(x,y)\n",
    "\tac=clf.score(x,y)\n",
    "\t#ac=silhouette(x, y, metric='sqeuclidean')\n",
    "\treturn ac"
   ]
  },
  {
   "cell_type": "code",
   "execution_count": 12,
   "metadata": {},
   "outputs": [],
   "source": [
    "STEP=0.15"
   ]
  },
  {
   "cell_type": "code",
   "execution_count": 13,
   "metadata": {},
   "outputs": [],
   "source": [
    "def animate_arcviz(t):\n",
    "    A1=(t*np.log(2.0))*STEP%(2*np.pi)\n",
    "    A2=(t*np.log(3.0))*STEP%(2*np.pi)\n",
    "    A3=(t*np.log(5.0))*STEP%(2*np.pi)\n",
    "    A4=(t*np.log(7.0))*STEP%(2*np.pi)\n",
    "    \n",
    "    Alpha=np.array([A1,A2,A3,A4])\n",
    "    \n",
    "    m=len(Alpha)\n",
    "    anchor=np.zeros((m,2))\n",
    "    for i in range(m):\n",
    "        anchor[i,0]=np.cos(Alpha[i])\n",
    "        anchor[i,1]=np.sin(Alpha[i])\n",
    "        \n",
    "    Y=circleradviz(x,Alpha)\n",
    "    #draw Radviz\n",
    "    plt.figure(figsize=(6,6))\n",
    "    plt.scatter(Y[:,0],Y[:,1],c=y,cmap=cm,marker='.',s=10)\n",
    "    #draw unit circle\n",
    "    t = np.linspace(0,2*np.pi, 100)\n",
    "    plt.plot(np.cos(t),np.sin(t),alpha=0.95)\n",
    "    #draw alpha point\n",
    "    (n,m)=x.shape\n",
    "    al=Alpha\n",
    "    \n",
    "    pm=np.argsort(al)\n",
    "    for i in range(m+1):\n",
    "        t1=al[pm[i%m]]\n",
    "        t2=al[pm[(i+1)%m]]\n",
    "        if (t1>t2):\n",
    "            t2=t2+2*np.pi\n",
    "        t=np.linspace(t1,t2,50)\n",
    "        plt.plot(np.cos(t),np.sin(t),color=axiscolors[pm[i%m]])\n",
    "        plt.scatter(np.cos(t1),np.sin(t1),color=\"red\",alpha=0.95);\n",
    "        plt.text((1+0.1)*np.cos(0.5*(t1+t2)),(1+0.1)*np.sin(0.5*(t1+t2)),'A'+str(pm[i%m]+1),color=\"black\")\n",
    "    \n",
    "    ac=Classifier(Y,y)\n",
    "    plt.text(-1,1,str(ac*100)[:5]+'%')\n",
    "    plt.xlim(-1.2,1.2)\n",
    "    plt.ylim(-1.2,1.2)\n",
    "    for i in range(m):\n",
    "        #np.linspace(V[i,0],V[i,1], 30)\n",
    "        #plt.scatter(anchor[i,0],anchor[i,1],color=axiscolors[i],size=al[i]*10,alpha=0.95)\n",
    "        plt.scatter(anchor[i,0],anchor[i,1],color=axiscolors[i],alpha=0.95)\n",
    "        #plt.text((1+0.1)*anchor[i,0],(1+0.1)*anchor[i,1],'A'+str(i+1),color=\"black\")\n",
    "    plt.show()\n",
    "   \n",
    "\n",
    "    \n",
    "    \n",
    "    return ac"
   ]
  },
  {
   "cell_type": "code",
   "execution_count": 14,
   "metadata": {},
   "outputs": [],
   "source": [
    "from ipywidgets import *\n",
    "import numpy as np\n",
    "import matplotlib.pyplot as plt\n",
    "%matplotlib inline"
   ]
  },
  {
   "cell_type": "code",
   "execution_count": 15,
   "metadata": {},
   "outputs": [],
   "source": [
    "play = widgets.Play(\n",
    "    value=1,\n",
    "    min=1,\n",
    "    max=100,\n",
    "    step=1,\n",
    "    description=\"Press play\"\n",
    ")\n",
    "slider = widgets.FloatSlider()\n",
    "widgets.jslink((play, 'value'), (slider, 'value'))"
   ]
  },
  {
   "cell_type": "code",
   "execution_count": 16,
   "metadata": {},
   "outputs": [
    {
     "data": {
      "application/vnd.jupyter.widget-view+json": {
       "model_id": "47c076dab972463ab4b06da1cfbdaf01",
       "version_major": 2,
       "version_minor": 0
      },
      "text/html": [
       "<p>Failed to display Jupyter Widget of type <code>VBox</code>.</p>\n",
       "<p>\n",
       "  If you're reading this message in the Jupyter Notebook or JupyterLab Notebook, it may mean\n",
       "  that the widgets JavaScript is still loading. If this message persists, it\n",
       "  likely means that the widgets JavaScript library is either not installed or\n",
       "  not enabled. See the <a href=\"https://ipywidgets.readthedocs.io/en/stable/user_install.html\">Jupyter\n",
       "  Widgets Documentation</a> for setup instructions.\n",
       "</p>\n",
       "<p>\n",
       "  If you're reading this message in another frontend (for example, a static\n",
       "  rendering on GitHub or <a href=\"https://nbviewer.jupyter.org/\">NBViewer</a>),\n",
       "  it may mean that your frontend doesn't currently support widgets.\n",
       "</p>\n"
      ],
      "text/plain": [
       "VBox(children=(FloatSlider(value=1.0), interactive(children=(Play(value=1, description='Press play', min=1), Output()), _dom_classes=('widget-interact',))))"
      ]
     },
     "metadata": {},
     "output_type": "display_data"
    }
   ],
   "source": [
    "p=interactive(animate_arcviz,t=play)\n",
    "widgets.VBox([slider,p])"
   ]
  },
  {
   "cell_type": "code",
   "execution_count": null,
   "metadata": {},
   "outputs": [],
   "source": []
  },
  {
   "cell_type": "code",
   "execution_count": null,
   "metadata": {},
   "outputs": [],
   "source": []
  }
 ],
 "metadata": {
  "kernelspec": {
   "display_name": "Python 3",
   "language": "python",
   "name": "python3"
  },
  "language_info": {
   "codemirror_mode": {
    "name": "ipython",
    "version": 3
   },
   "file_extension": ".py",
   "mimetype": "text/x-python",
   "name": "python",
   "nbconvert_exporter": "python",
   "pygments_lexer": "ipython3",
   "version": "3.5.3"
  }
 },
 "nbformat": 4,
 "nbformat_minor": 2
}
