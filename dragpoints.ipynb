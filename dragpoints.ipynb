{
 "cells": [
  {
   "cell_type": "code",
   "execution_count": 1,
   "metadata": {},
   "outputs": [],
   "source": [
    "from bokeh.plotting import figure, output_file, show, Column\n",
    "from bokeh.models import DataTable, TableColumn, PointDrawTool, ColumnDataSource\n",
    "\n",
    "#output_file(\"tools_point_draw.html\")\n",
    "\n",
    "p = figure(x_range=(0, 10), y_range=(0, 10), tools=[],\n",
    "           title='Point Draw Tool')\n",
    "p.background_fill_color = 'lightgrey'\n",
    "\n",
    "source = ColumnDataSource({\n",
    "    'x': [1, 5, 9], 'y': [1, 5, 9], 'color': ['red', 'green', 'yellow']\n",
    "})\n",
    "\n",
    "renderer = p.scatter(x='x', y='y', source=source, color='color', size=10)\n",
    "columns = [TableColumn(field=\"x\", title=\"x\"),\n",
    "           TableColumn(field=\"y\", title=\"y\"),\n",
    "           TableColumn(field='color', title='color')]\n",
    "table = DataTable(source=source, columns=columns, editable=True, height=200)\n",
    "\n",
    "draw_tool = PointDrawTool(renderers=[renderer], empty_value='black')\n",
    "p.add_tools(draw_tool)\n",
    "p.toolbar.active_tap = draw_tool\n",
    "\n",
    "show(Column(p, table))"
   ]
  },
  {
   "cell_type": "code",
   "execution_count": 2,
   "metadata": {},
   "outputs": [],
   "source": [
    "from bokeh.plotting import figure\n",
    "from bokeh.models import ColumnDataSource, Column\n",
    "from bokeh.io import curdoc\n",
    "from bokeh.events import DoubleTap\n",
    "\n",
    "coordList=[]\n",
    "\n",
    "TOOLS = \"tap\"\n",
    "bound = 10\n",
    "p = figure(title='Double click to leave a dot.',\n",
    "           tools=TOOLS,width=700,height=700,\n",
    "           x_range=(-bound, bound), y_range=(-bound, bound))\n",
    "\n",
    "source = ColumnDataSource(data=dict(x=[], y=[]))   \n",
    "p.circle(source=source,x='x',y='y') \n",
    "\n",
    "#add a dot where the click happened\n",
    "def callback(event):\n",
    "    Coords=(event.x,event.y)\n",
    "    coordList.append(Coords) \n",
    "    source.data = dict(x=[i[0] for i in coordList], y=[i[1] for i in coordList])        \n",
    "p.on_event(DoubleTap, callback)\n",
    "\n",
    "layout=Column(p)\n",
    "\n",
    "curdoc().add_root(layout)"
   ]
  },
  {
   "cell_type": "code",
   "execution_count": null,
   "metadata": {},
   "outputs": [],
   "source": []
  }
 ],
 "metadata": {
  "kernelspec": {
   "display_name": "Python 3",
   "language": "python",
   "name": "python3"
  },
  "language_info": {
   "codemirror_mode": {
    "name": "ipython",
    "version": 3
   },
   "file_extension": ".py",
   "mimetype": "text/x-python",
   "name": "python",
   "nbconvert_exporter": "python",
   "pygments_lexer": "ipython3",
   "version": "3.7.4"
  }
 },
 "nbformat": 4,
 "nbformat_minor": 2
}
