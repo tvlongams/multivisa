{
 "cells": [
  {
   "cell_type": "code",
   "execution_count": 1,
   "metadata": {},
   "outputs": [],
   "source": [
    "import pandas as pd\n",
    "import numpy as np\n",
    "from sklearn.tree import DecisionTreeClassifier\n",
    "from sklearn import tree\n",
    "import graphviz \n",
    "from pandas.plotting import radviz, parallel_coordinates\n",
    "import matplotlib.pyplot as plt\n",
    "from sklearn import metrics\n",
    "import Orange\n",
    "import matplotlib\n",
    "from sklearn.neighbors.nearest_centroid import NearestCentroid\n",
    "clf = NearestCentroid()"
   ]
  },
  {
   "cell_type": "code",
   "execution_count": 2,
   "metadata": {},
   "outputs": [],
   "source": [
    "#file=\"biolab.si/leukemia.tab\" # run\n",
    "file=\"biolab.si/MLL.tab\" # run\n",
    "#file=\"biolab.si/SRBCT.tab\" # run\n",
    "#file=\"biolab.si/lungGSE1987.tab\" # run\n",
    "#file=\"biolab.si/prostata.tab\" #run\n",
    "#file=\"biolab.si/braintumor.tab\" # run\n",
    "#file=\"biolab.si/lung.tab\"\n",
    "\n",
    "data=Orange.data.Table(file)\n",
    "x=data.X\n",
    "y=data.Y"
   ]
  },
  {
   "cell_type": "code",
   "execution_count": 3,
   "metadata": {},
   "outputs": [
    {
     "data": {
      "text/plain": [
       "(72, 12533)"
      ]
     },
     "execution_count": 3,
     "metadata": {},
     "output_type": "execute_result"
    }
   ],
   "source": [
    "x.shape"
   ]
  },
  {
   "cell_type": "code",
   "execution_count": 4,
   "metadata": {},
   "outputs": [],
   "source": [
    "x=pd.DataFrame(x)\n",
    "x=(x-x.min())/(x.max()-x.min())"
   ]
  },
  {
   "cell_type": "code",
   "execution_count": 5,
   "metadata": {},
   "outputs": [
    {
     "data": {
      "text/plain": [
       "(0, 12532)"
      ]
     },
     "execution_count": 5,
     "metadata": {},
     "output_type": "execute_result"
    }
   ],
   "source": [
    "min(x),max(x)"
   ]
  },
  {
   "cell_type": "code",
   "execution_count": 6,
   "metadata": {},
   "outputs": [
    {
     "data": {
      "text/html": [
       "<div>\n",
       "<style scoped>\n",
       "    .dataframe tbody tr th:only-of-type {\n",
       "        vertical-align: middle;\n",
       "    }\n",
       "\n",
       "    .dataframe tbody tr th {\n",
       "        vertical-align: top;\n",
       "    }\n",
       "\n",
       "    .dataframe thead th {\n",
       "        text-align: right;\n",
       "    }\n",
       "</style>\n",
       "<table border=\"1\" class=\"dataframe\">\n",
       "  <thead>\n",
       "    <tr style=\"text-align: right;\">\n",
       "      <th></th>\n",
       "      <th>0</th>\n",
       "      <th>1</th>\n",
       "      <th>2</th>\n",
       "      <th>3</th>\n",
       "      <th>4</th>\n",
       "      <th>5</th>\n",
       "      <th>6</th>\n",
       "      <th>7</th>\n",
       "      <th>8</th>\n",
       "      <th>9</th>\n",
       "      <th>...</th>\n",
       "      <th>12523</th>\n",
       "      <th>12524</th>\n",
       "      <th>12525</th>\n",
       "      <th>12526</th>\n",
       "      <th>12527</th>\n",
       "      <th>12528</th>\n",
       "      <th>12529</th>\n",
       "      <th>12530</th>\n",
       "      <th>12531</th>\n",
       "      <th>12532</th>\n",
       "    </tr>\n",
       "  </thead>\n",
       "  <tbody>\n",
       "    <tr>\n",
       "      <th>0</th>\n",
       "      <td>0.554545</td>\n",
       "      <td>0.769513</td>\n",
       "      <td>0.225726</td>\n",
       "      <td>0.341649</td>\n",
       "      <td>0.140909</td>\n",
       "      <td>0.6596</td>\n",
       "      <td>0.882718</td>\n",
       "      <td>0.682574</td>\n",
       "      <td>0.094921</td>\n",
       "      <td>0.803911</td>\n",
       "      <td>...</td>\n",
       "      <td>0.045010</td>\n",
       "      <td>0.364936</td>\n",
       "      <td>0.494690</td>\n",
       "      <td>0.279961</td>\n",
       "      <td>0.447757</td>\n",
       "      <td>0.448759</td>\n",
       "      <td>0.029566</td>\n",
       "      <td>0.280900</td>\n",
       "      <td>0.866947</td>\n",
       "      <td>0.454833</td>\n",
       "    </tr>\n",
       "    <tr>\n",
       "      <th>1</th>\n",
       "      <td>0.672304</td>\n",
       "      <td>0.846077</td>\n",
       "      <td>0.593361</td>\n",
       "      <td>0.433839</td>\n",
       "      <td>0.538961</td>\n",
       "      <td>1.0000</td>\n",
       "      <td>0.758297</td>\n",
       "      <td>0.596322</td>\n",
       "      <td>0.813650</td>\n",
       "      <td>0.790503</td>\n",
       "      <td>...</td>\n",
       "      <td>0.241468</td>\n",
       "      <td>0.390746</td>\n",
       "      <td>0.318584</td>\n",
       "      <td>0.276265</td>\n",
       "      <td>0.296394</td>\n",
       "      <td>0.466312</td>\n",
       "      <td>0.032748</td>\n",
       "      <td>0.263666</td>\n",
       "      <td>0.906419</td>\n",
       "      <td>0.866004</td>\n",
       "    </tr>\n",
       "    <tr>\n",
       "      <th>2</th>\n",
       "      <td>0.649049</td>\n",
       "      <td>0.739821</td>\n",
       "      <td>0.506224</td>\n",
       "      <td>0.535792</td>\n",
       "      <td>0.331981</td>\n",
       "      <td>0.5470</td>\n",
       "      <td>0.715091</td>\n",
       "      <td>0.529772</td>\n",
       "      <td>0.168265</td>\n",
       "      <td>0.737430</td>\n",
       "      <td>...</td>\n",
       "      <td>0.000000</td>\n",
       "      <td>0.322365</td>\n",
       "      <td>0.391150</td>\n",
       "      <td>0.193256</td>\n",
       "      <td>0.339490</td>\n",
       "      <td>0.535461</td>\n",
       "      <td>0.111317</td>\n",
       "      <td>0.248232</td>\n",
       "      <td>0.975705</td>\n",
       "      <td>0.232159</td>\n",
       "    </tr>\n",
       "    <tr>\n",
       "      <th>3</th>\n",
       "      <td>0.536998</td>\n",
       "      <td>0.745780</td>\n",
       "      <td>0.510373</td>\n",
       "      <td>0.440347</td>\n",
       "      <td>0.068994</td>\n",
       "      <td>0.7440</td>\n",
       "      <td>0.648090</td>\n",
       "      <td>0.663748</td>\n",
       "      <td>0.052367</td>\n",
       "      <td>0.603352</td>\n",
       "      <td>...</td>\n",
       "      <td>0.098519</td>\n",
       "      <td>0.856555</td>\n",
       "      <td>0.253097</td>\n",
       "      <td>0.000000</td>\n",
       "      <td>0.000000</td>\n",
       "      <td>0.218085</td>\n",
       "      <td>0.132708</td>\n",
       "      <td>0.274277</td>\n",
       "      <td>0.899520</td>\n",
       "      <td>0.601626</td>\n",
       "    </tr>\n",
       "    <tr>\n",
       "      <th>4</th>\n",
       "      <td>0.653277</td>\n",
       "      <td>0.844091</td>\n",
       "      <td>0.352697</td>\n",
       "      <td>0.469631</td>\n",
       "      <td>0.507305</td>\n",
       "      <td>0.8930</td>\n",
       "      <td>0.972448</td>\n",
       "      <td>0.764448</td>\n",
       "      <td>0.095927</td>\n",
       "      <td>0.796089</td>\n",
       "      <td>...</td>\n",
       "      <td>0.083924</td>\n",
       "      <td>0.574293</td>\n",
       "      <td>0.819469</td>\n",
       "      <td>0.314527</td>\n",
       "      <td>0.565523</td>\n",
       "      <td>0.643617</td>\n",
       "      <td>0.033672</td>\n",
       "      <td>0.718006</td>\n",
       "      <td>0.771446</td>\n",
       "      <td>0.451069</td>\n",
       "    </tr>\n",
       "  </tbody>\n",
       "</table>\n",
       "<p>5 rows × 12533 columns</p>\n",
       "</div>"
      ],
      "text/plain": [
       "      0         1         2         3         4       5         6      \\\n",
       "0  0.554545  0.769513  0.225726  0.341649  0.140909  0.6596  0.882718   \n",
       "1  0.672304  0.846077  0.593361  0.433839  0.538961  1.0000  0.758297   \n",
       "2  0.649049  0.739821  0.506224  0.535792  0.331981  0.5470  0.715091   \n",
       "3  0.536998  0.745780  0.510373  0.440347  0.068994  0.7440  0.648090   \n",
       "4  0.653277  0.844091  0.352697  0.469631  0.507305  0.8930  0.972448   \n",
       "\n",
       "      7         8         9        ...        12523     12524     12525  \\\n",
       "0  0.682574  0.094921  0.803911    ...     0.045010  0.364936  0.494690   \n",
       "1  0.596322  0.813650  0.790503    ...     0.241468  0.390746  0.318584   \n",
       "2  0.529772  0.168265  0.737430    ...     0.000000  0.322365  0.391150   \n",
       "3  0.663748  0.052367  0.603352    ...     0.098519  0.856555  0.253097   \n",
       "4  0.764448  0.095927  0.796089    ...     0.083924  0.574293  0.819469   \n",
       "\n",
       "      12526     12527     12528     12529     12530     12531     12532  \n",
       "0  0.279961  0.447757  0.448759  0.029566  0.280900  0.866947  0.454833  \n",
       "1  0.276265  0.296394  0.466312  0.032748  0.263666  0.906419  0.866004  \n",
       "2  0.193256  0.339490  0.535461  0.111317  0.248232  0.975705  0.232159  \n",
       "3  0.000000  0.000000  0.218085  0.132708  0.274277  0.899520  0.601626  \n",
       "4  0.314527  0.565523  0.643617  0.033672  0.718006  0.771446  0.451069  \n",
       "\n",
       "[5 rows x 12533 columns]"
      ]
     },
     "execution_count": 6,
     "metadata": {},
     "output_type": "execute_result"
    }
   ],
   "source": [
    "x.head()"
   ]
  },
  {
   "cell_type": "code",
   "execution_count": 106,
   "metadata": {},
   "outputs": [],
   "source": [
    "binaryx=np.zeros((x.shape))"
   ]
  },
  {
   "cell_type": "code",
   "execution_count": 107,
   "metadata": {},
   "outputs": [
    {
     "data": {
      "text/plain": [
       "(72, 12533)"
      ]
     },
     "execution_count": 107,
     "metadata": {},
     "output_type": "execute_result"
    }
   ],
   "source": [
    "binaryx.shape"
   ]
  },
  {
   "cell_type": "code",
   "execution_count": 108,
   "metadata": {},
   "outputs": [],
   "source": [
    "n,p=x.shape"
   ]
  },
  {
   "cell_type": "code",
   "execution_count": 112,
   "metadata": {},
   "outputs": [],
   "source": [
    "for i in range(n):\n",
    "    for j in range(p):\n",
    "        if (x.values[i,j]<0.5):\n",
    "            binaryx[i,j]=1\n",
    "        else:\n",
    "            binaryx[i,j]=0"
   ]
  },
  {
   "cell_type": "code",
   "execution_count": 113,
   "metadata": {},
   "outputs": [
    {
     "data": {
      "text/plain": [
       "array([ 0.,  1.])"
      ]
     },
     "execution_count": 113,
     "metadata": {},
     "output_type": "execute_result"
    }
   ],
   "source": [
    "np.unique(binaryx)"
   ]
  },
  {
   "cell_type": "code",
   "execution_count": 114,
   "metadata": {},
   "outputs": [],
   "source": [
    "sumc=np.sum(binaryx,axis=0)"
   ]
  },
  {
   "cell_type": "code",
   "execution_count": 115,
   "metadata": {},
   "outputs": [
    {
     "data": {
      "text/plain": [
       "(12533,)"
      ]
     },
     "execution_count": 115,
     "metadata": {},
     "output_type": "execute_result"
    }
   ],
   "source": [
    "sumc.shape"
   ]
  },
  {
   "cell_type": "code",
   "execution_count": 117,
   "metadata": {},
   "outputs": [
    {
     "data": {
      "text/plain": [
       "array([ 37.,   2.,  37.,  32.,  44.,  10.,  13.,  20.,  67.,   4.])"
      ]
     },
     "execution_count": 117,
     "metadata": {},
     "output_type": "execute_result"
    }
   ],
   "source": [
    "sumc[:10]"
   ]
  },
  {
   "cell_type": "code",
   "execution_count": 118,
   "metadata": {},
   "outputs": [],
   "source": [
    "sumhigh=sumc[sumc>60]"
   ]
  },
  {
   "cell_type": "code",
   "execution_count": 120,
   "metadata": {},
   "outputs": [
    {
     "data": {
      "text/plain": [
       "3871"
      ]
     },
     "execution_count": 120,
     "metadata": {},
     "output_type": "execute_result"
    }
   ],
   "source": [
    "len(sumhigh)"
   ]
  },
  {
   "cell_type": "code",
   "execution_count": null,
   "metadata": {},
   "outputs": [],
   "source": []
  },
  {
   "cell_type": "code",
   "execution_count": null,
   "metadata": {},
   "outputs": [],
   "source": []
  },
  {
   "cell_type": "code",
   "execution_count": null,
   "metadata": {},
   "outputs": [],
   "source": []
  },
  {
   "cell_type": "code",
   "execution_count": null,
   "metadata": {},
   "outputs": [],
   "source": []
  },
  {
   "cell_type": "code",
   "execution_count": null,
   "metadata": {},
   "outputs": [],
   "source": []
  },
  {
   "cell_type": "code",
   "execution_count": 4,
   "metadata": {},
   "outputs": [],
   "source": [
    "#u, s, vh = np.linalg.svd(a, full_matrices=True)\n",
    "from numpy.linalg import svd\n",
    "# A=U*S*V^T, V^T=vh\n",
    "# A*v_i=s_i*u_i\n",
    "# A^T*u_i=s_i*v_i"
   ]
  },
  {
   "cell_type": "code",
   "execution_count": 76,
   "metadata": {},
   "outputs": [],
   "source": [
    "u,s,vh=svd(x,full_matrices=True)"
   ]
  },
  {
   "cell_type": "code",
   "execution_count": 77,
   "metadata": {},
   "outputs": [
    {
     "data": {
      "text/plain": [
       "((72, 72), (72,), (12533, 12533))"
      ]
     },
     "execution_count": 77,
     "metadata": {},
     "output_type": "execute_result"
    }
   ],
   "source": [
    "u.shape, s.shape,vh.shape"
   ]
  },
  {
   "cell_type": "code",
   "execution_count": 78,
   "metadata": {},
   "outputs": [],
   "source": [
    "u0=x.dot(vh[0,:]) # X*vh[i,:]=s_i*u[i,:]\n",
    "v0=x.T.dot(u[:,0]) # X^T*u[:,i]=s_i*vh[i,:]\n",
    "# v0=s[0]*vh[0,:]\n",
    "# u0=s[0]*u[:,0]"
   ]
  },
  {
   "cell_type": "code",
   "execution_count": 79,
   "metadata": {},
   "outputs": [
    {
     "data": {
      "text/plain": [
       "(72,)"
      ]
     },
     "execution_count": 79,
     "metadata": {},
     "output_type": "execute_result"
    }
   ],
   "source": [
    "u0.shape"
   ]
  },
  {
   "cell_type": "code",
   "execution_count": 80,
   "metadata": {},
   "outputs": [
    {
     "data": {
      "text/plain": [
       "(12533,)"
      ]
     },
     "execution_count": 80,
     "metadata": {},
     "output_type": "execute_result"
    }
   ],
   "source": [
    "v0.shape"
   ]
  },
  {
   "cell_type": "code",
   "execution_count": 81,
   "metadata": {},
   "outputs": [],
   "source": [
    "n,p=x.shape"
   ]
  },
  {
   "cell_type": "code",
   "execution_count": 82,
   "metadata": {},
   "outputs": [
    {
     "data": {
      "text/plain": [
       "(72, 12533)"
      ]
     },
     "execution_count": 82,
     "metadata": {},
     "output_type": "execute_result"
    }
   ],
   "source": [
    "n,p"
   ]
  },
  {
   "cell_type": "code",
   "execution_count": 83,
   "metadata": {},
   "outputs": [],
   "source": [
    "V=vh[:n,:]"
   ]
  },
  {
   "cell_type": "code",
   "execution_count": 84,
   "metadata": {},
   "outputs": [
    {
     "data": {
      "text/plain": [
       "(72, 12533)"
      ]
     },
     "execution_count": 84,
     "metadata": {},
     "output_type": "execute_result"
    }
   ],
   "source": [
    "V.shape"
   ]
  },
  {
   "cell_type": "code",
   "execution_count": 85,
   "metadata": {},
   "outputs": [],
   "source": [
    "subspace=[]\n",
    "for i in range(n):\n",
    "    ui=u[:,i]\n",
    "    sim=np.zeros(p)\n",
    "    for j in range(p):\n",
    "        xj=x[:,j]\n",
    "        similarity=np.dot(xj,ui)/np.sqrt(np.dot(xj,xj)*np.dot(ui,ui))\n",
    "        sim[j]=similarity\n",
    "\n",
    "    idx=np.argmax(sim)\n",
    "    subspace.append(idx)\n",
    "\n",
    "\n"
   ]
  },
  {
   "cell_type": "code",
   "execution_count": 86,
   "metadata": {},
   "outputs": [
    {
     "data": {
      "text/plain": [
       "72"
      ]
     },
     "execution_count": 86,
     "metadata": {},
     "output_type": "execute_result"
    }
   ],
   "source": [
    "len(subspace)"
   ]
  },
  {
   "cell_type": "code",
   "execution_count": 87,
   "metadata": {},
   "outputs": [
    {
     "data": {
      "text/plain": [
       "72"
      ]
     },
     "execution_count": 87,
     "metadata": {},
     "output_type": "execute_result"
    }
   ],
   "source": [
    "len(np.unique(subspace))"
   ]
  },
  {
   "cell_type": "code",
   "execution_count": 88,
   "metadata": {},
   "outputs": [],
   "source": [
    "X=x[:,subspace]"
   ]
  },
  {
   "cell_type": "code",
   "execution_count": 89,
   "metadata": {},
   "outputs": [
    {
     "data": {
      "text/plain": [
       "(72, 72)"
      ]
     },
     "execution_count": 89,
     "metadata": {},
     "output_type": "execute_result"
    }
   ],
   "source": [
    "X.shape"
   ]
  },
  {
   "cell_type": "code",
   "execution_count": 90,
   "metadata": {},
   "outputs": [],
   "source": [
    "x=pd.DataFrame(X)\n",
    "x=(x-x.min())/(x.max()-x.min())"
   ]
  },
  {
   "cell_type": "code",
   "execution_count": 91,
   "metadata": {},
   "outputs": [
    {
     "data": {
      "text/plain": [
       "(72, 72)"
      ]
     },
     "execution_count": 91,
     "metadata": {},
     "output_type": "execute_result"
    }
   ],
   "source": [
    "x.shape"
   ]
  },
  {
   "cell_type": "code",
   "execution_count": 62,
   "metadata": {},
   "outputs": [],
   "source": [
    "def cradviz(x,alpha):\n",
    "    #alpha\n",
    "    m=len(x)\n",
    "    theta=np.zeros(m)\n",
    "    for i in range(m):\n",
    "        theta[i]=alpha[i]#*x[i]+alpha[i,1]*(1-x[i])\n",
    "    anchor=np.array([np.cos(theta),np.sin(theta)])\n",
    "    if np.sum(x)!=0.0:\n",
    "        p=np.dot(anchor,x)/np.sum(x)\n",
    "    else:\n",
    "        p=np.zeros(2)\n",
    "    return p\n",
    "def circleradviz(X,a):\n",
    "\t#p=sum \n",
    "\t(n,m)=X.shape\n",
    "\tY=np.zeros((n,2))\n",
    "\tfor i in range(n):\n",
    "\t\tY[i]=cradviz(X[i],a)\n",
    "\treturn Y\n",
    "def DimensionAnchor(m):\n",
    "    an=np.zeros(m)\n",
    "    for i in range(m):\n",
    "        an[i]=i*np.pi*2/m\n",
    "    return an"
   ]
  },
  {
   "cell_type": "code",
   "execution_count": 92,
   "metadata": {},
   "outputs": [
    {
     "name": "stdout",
     "output_type": "stream",
     "text": [
      "0.118503271207 [0 1 2 3]\n"
     ]
    }
   ],
   "source": [
    "m=4\n",
    "anchor=DimensionAnchor(m)\n",
    "best_score=0.0\n",
    "\n",
    "col=x.columns.values\n",
    "select=col[range(m)]\n",
    "X=x[select].values\n",
    "Y=circleradviz(X,anchor)\n",
    "best_score=metrics.silhouette_score(Y, y, metric='sqeuclidean') \n",
    "best_select=select\n",
    "print(best_score,best_select)"
   ]
  },
  {
   "cell_type": "code",
   "execution_count": 93,
   "metadata": {},
   "outputs": [
    {
     "name": "stdout",
     "output_type": "stream",
     "text": [
      "0.341852218628 [7 1 2 6]\n"
     ]
    }
   ],
   "source": [
    "#m=4\n",
    "anchor=DimensionAnchor(m)\n",
    "best_score=0.0\n",
    "col=x.columns.values\n",
    "#select=[1335+1,3544+1,1395+1,3993+1,186+1]\n",
    "select=col[range(m)]\n",
    "X=x[select].values\n",
    "Y=circleradviz(X,anchor)\n",
    "best_score=metrics.silhouette_score(Y, y, metric='sqeuclidean') \n",
    "best_select=select\n",
    "for i in col[m:]:\n",
    "    select=best_select.copy()\n",
    "    for j in range(m):\n",
    "        c_select=select.copy() \n",
    "        c_select[j]=i\n",
    "        X=x[c_select].values\n",
    "        Y=circleradviz(X,anchor)\n",
    "        score=metrics.silhouette_score(Y, y, metric='sqeuclidean') \n",
    "        if (best_score<score):\n",
    "            best_score=score\n",
    "            best_select=c_select#.copy()\n",
    "print(best_score,best_select)"
   ]
  },
  {
   "cell_type": "code",
   "execution_count": 94,
   "metadata": {},
   "outputs": [
    {
     "name": "stdout",
     "output_type": "stream",
     "text": [
      "Score:  0.341852218628\n"
     ]
    },
    {
     "data": {
      "image/png": "[encoded data removed]",
      "text/plain": [
       "<Figure size 432x432 with 1 Axes>"
      ]
     },
     "metadata": {},
     "output_type": "display_data"
    }
   ],
   "source": [
    "#select=[1767, 1276, 1674, 1375]\n",
    "select=best_select#[1293, 1556, 4517, 1727, 5058, 1375]\n",
    "X=x[select].values\n",
    "Y=circleradviz(X,anchor)\n",
    "\n",
    "best_score=metrics.silhouette_score(Y, y, metric='sqeuclidean') \n",
    "print('Score: ', best_score)\n",
    "\n",
    "# define color\n",
    "classes=np.unique(y)\n",
    "#colors=plt.cm.rainbow(np.linspace(0,1,len(classes)))\n",
    "colors=['b', 'g', 'r', 'c', 'm', 'y', 'k', 'w']\n",
    "markers=['x','o','v','^','>','<','s','p','h']\n",
    "cm = matplotlib.colors.ListedColormap(colors)\n",
    "\n",
    "plt.figure(figsize=(6,6))\n",
    "cy=pd.factorize(y)[0]\n",
    "t=np.linspace(0,2*np.pi,100)\n",
    "plt.plot(np.cos(t),np.sin(t))\n",
    "\n",
    "\n",
    "plt.scatter(Y[:,0],Y[:,1],c=y,cmap=cm,s=20)\n",
    "    \n",
    "#plt.legend()\n",
    "\n",
    "plt.xlim(-1.3,1.3)\n",
    "plt.ylim(-1.3,1.3)\n",
    "\n",
    "plt.text(-1.2,-1.2,str(best_score)[:6])\n",
    "\n",
    "plt.axis('off')\n",
    "plt.show()"
   ]
  },
  {
   "cell_type": "code",
   "execution_count": 98,
   "metadata": {},
   "outputs": [
    {
     "name": "stdout",
     "output_type": "stream",
     "text": [
      "0.373188638\n",
      "[5 1 2 6]\n"
     ]
    }
   ],
   "source": [
    "#m=8\n",
    "#anchor=DimensionAnchor(m)\n",
    "#best_score=0.0\n",
    "#col=x.columns.values\n",
    "#select=[1335+1,3544+1,1395+1,3993+1,186+1]\n",
    "select=best_select#col[range(m)]\n",
    "X=x[select].values\n",
    "Y=circleradviz(X,anchor)\n",
    "best_score=metrics.silhouette_score(Y, y, metric='sqeuclidean') \n",
    "best_select=select\n",
    "\n",
    "for i in col[0:]:\n",
    "    select=best_select.copy()\n",
    "    #if (i not in best_select):\n",
    "    for j in range(m):\n",
    "        c_select=select.copy()\n",
    "        if (c_select[j]!=i):\n",
    "            c_select[j]=i\n",
    "            X=x[c_select].values\n",
    "            Y=circleradviz(X,anchor)\n",
    "            score=metrics.silhouette_score(Y, y, metric='sqeuclidean') \n",
    "            if (best_score<score):\n",
    "                best_score=score\n",
    "                best_select=c_select#.copy()\n",
    "                \n",
    "print(best_score)\n",
    "print(best_select)"
   ]
  },
  {
   "cell_type": "code",
   "execution_count": 96,
   "metadata": {},
   "outputs": [
    {
     "name": "stdout",
     "output_type": "stream",
     "text": [
      "Score:  0.373188638\n"
     ]
    },
    {
     "data": {
      "image/png": "[encoded data removed]",
      "text/plain": [
       "<Figure size 432x432 with 1 Axes>"
      ]
     },
     "metadata": {},
     "output_type": "display_data"
    }
   ],
   "source": [
    "#select=[1767, 1276, 1674, 1375]\n",
    "select=best_select#[1293, 1556, 4517, 1727, 5058, 1375]\n",
    "X=x[select].values\n",
    "Y=circleradviz(X,anchor)\n",
    "\n",
    "best_score=metrics.silhouette_score(Y, y, metric='sqeuclidean') \n",
    "print('Score: ', best_score)\n",
    "\n",
    "# define color\n",
    "classes=np.unique(y)\n",
    "#colors=plt.cm.rainbow(np.linspace(0,1,len(classes)))\n",
    "colors=['b', 'g', 'r', 'c', 'm', 'y', 'k', 'w']\n",
    "markers=['x','o','v','^','>','<','s','p','h']\n",
    "cm = matplotlib.colors.ListedColormap(colors)\n",
    "\n",
    "plt.figure(figsize=(6,6))\n",
    "cy=pd.factorize(y)[0]\n",
    "t=np.linspace(0,2*np.pi,100)\n",
    "plt.plot(np.cos(t),np.sin(t))\n",
    "\n",
    "\n",
    "plt.scatter(Y[:,0],Y[:,1],c=y,cmap=cm,s=20)\n",
    "    \n",
    "#plt.legend()\n",
    "\n",
    "plt.xlim(-1.3,1.3)\n",
    "plt.ylim(-1.3,1.3)\n",
    "\n",
    "plt.text(-1.2,-1.2,str(best_score)[:6])\n",
    "\n",
    "plt.axis('off')\n",
    "plt.show()"
   ]
  },
  {
   "cell_type": "code",
   "execution_count": null,
   "metadata": {},
   "outputs": [],
   "source": []
  }
 ],
 "metadata": {
  "kernelspec": {
   "display_name": "Python 3",
   "language": "python",
   "name": "python3"
  },
  "language_info": {
   "codemirror_mode": {
    "name": "ipython",
    "version": 3
   },
   "file_extension": ".py",
   "mimetype": "text/x-python",
   "name": "python",
   "nbconvert_exporter": "python",
   "pygments_lexer": "ipython3",
   "version": "3.5.3"
  }
 },
 "nbformat": 4,
 "nbformat_minor": 2
}
