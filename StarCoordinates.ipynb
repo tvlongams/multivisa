{
 "cells": [
  {
   "cell_type": "code",
   "execution_count": 1,
   "metadata": {},
   "outputs": [],
   "source": [
    "from ipywidgets import interact, interactive, IntSlider, Layout, interact_manual\n",
    "import ipywidgets as widgets\n",
    "from IPython.display import display\n",
    "import numpy as np\n",
    "import matplotlib.pyplot as plt\n",
    "#%matplotlib inline\n",
    "import pandas as pd\n",
    "from sklearn.discriminant_analysis import LinearDiscriminantAnalysis as LDA\n",
    "from sklearn.metrics import silhouette_score"
   ]
  },
  {
   "cell_type": "code",
   "execution_count": 2,
   "metadata": {},
   "outputs": [],
   "source": [
    "from datasets import *"
   ]
  },
  {
   "cell_type": "code",
   "execution_count": 3,
   "metadata": {},
   "outputs": [],
   "source": [
    "(x,y)=DATA['iris']"
   ]
  },
  {
   "cell_type": "code",
   "execution_count": 4,
   "metadata": {},
   "outputs": [],
   "source": [
    "def normalize_cols(m):\n",
    "    col_max=m.max(axis=0)\n",
    "    col_min=m.min(axis=0)\n",
    "    return (m-col_min)/(col_max-col_min)"
   ]
  },
  {
   "cell_type": "code",
   "execution_count": 5,
   "metadata": {},
   "outputs": [],
   "source": [
    "x=normalize_cols(x)"
   ]
  },
  {
   "cell_type": "code",
   "execution_count": 6,
   "metadata": {},
   "outputs": [],
   "source": [
    "(n,m)=x.shape"
   ]
  },
  {
   "cell_type": "code",
   "execution_count": 7,
   "metadata": {},
   "outputs": [],
   "source": [
    "import matplotlib\n",
    "classes=np.unique(y)\n",
    "colors=matplotlib.pyplot.cm.gist_rainbow(np.linspace(0,1,len(classes)))\n",
    "#colors=matplotlib.pyplot.cm.rainbow(np.linspace(0,1,len(classes)))\n",
    "cm = matplotlib.colors.ListedColormap(colors)\n",
    "axiscolors=matplotlib.pyplot.cm.rainbow(np.linspace(0,1,m))"
   ]
  },
  {
   "cell_type": "code",
   "execution_count": 8,
   "metadata": {},
   "outputs": [],
   "source": [
    "def StarCoordinates(m):\n",
    "\ttheta=np.pi*2/m\n",
    "\tv=np.zeros((m,2))\n",
    "\tfor i in range(m):\n",
    "\t\tv[i,0]=np.cos(i*theta)\n",
    "\t\tv[i,1]=np.sin(i*theta)\n",
    "\treturn v"
   ]
  },
  {
   "cell_type": "code",
   "execution_count": 9,
   "metadata": {},
   "outputs": [],
   "source": [
    "SC=StarCoordinates(m)"
   ]
  },
  {
   "cell_type": "code",
   "execution_count": 10,
   "metadata": {},
   "outputs": [],
   "source": [
    "def Starcoor(x,anchor):\n",
    "    m=len(x)\n",
    "    p=np.dot(x,anchor)\n",
    "    return p"
   ]
  },
  {
   "cell_type": "code",
   "execution_count": 11,
   "metadata": {},
   "outputs": [],
   "source": [
    "def bc(x,lam):\n",
    "    if lam==0.0:\n",
    "        return np.log(x+1)\n",
    "    else:\n",
    "        return (np.power(x+1,lam)-1)/lam"
   ]
  },
  {
   "cell_type": "code",
   "execution_count": 12,
   "metadata": {},
   "outputs": [],
   "source": [
    "def star_bc(X,al,anchor):\n",
    "    (n,m)=X.shape\n",
    "    Y=np.zeros((n,2))\n",
    "    Z=np.zeros((n,m))\n",
    "    for i in range(m):\n",
    "        Z[:,i]=bc(X[:,i],al[i])\n",
    "    for i in range(n):\n",
    "        Y[i]=Starcoor(Z[i],anchor)\n",
    "    return Y"
   ]
  },
  {
   "cell_type": "code",
   "execution_count": 17,
   "metadata": {},
   "outputs": [],
   "source": [
    "def func_starcoor(A1,A2,A3,A4):\n",
    "    Alpha=np.array([A1,A2,A3,A4])\n",
    "    m=len(Alpha)\n",
    "    anchor=StarCoordinates(m)\n",
    "        \n",
    "    Y=star_bc(x,Alpha,anchor)\n",
    "    #draw Radviz\n",
    "    plt.figure(figsize=(5,5))\n",
    "    plt.scatter(Y[:,0],Y[:,1],c=y,cmap=cm,marker='.',s=10)\n",
    "    #draw unit circle\n",
    "    t = np.linspace(0,2*np.pi, 100)\n",
    "    plt.plot(np.cos(t),np.sin(t),alpha=0.95)\n",
    "    #draw alpha point\n",
    "    (n,m)=x.shape\n",
    "    al=np.array([A1,A2,A3,A4])\n",
    "    \n",
    "    ac=silhouette_score(Y,y)#Classifier(Y,y)\n",
    "    plt.text(-1,1,str(ac*100)[:5]+'%')\n",
    "    plt.xlim(-4,4)\n",
    "    plt.ylim(-4,4)\n",
    "    for i in range(m):\n",
    "        #np.linspace(V[i,0],V[i,1], 30)\n",
    "        #plt.scatter(anchor[i,0],anchor[i,1],color=axiscolors[i],size=al[i]*10,alpha=0.95)\n",
    "        plt.scatter(anchor[i,0],anchor[i,1],color=axiscolors[i],alpha=0.95)\n",
    "        plt.text((1+0.1)*anchor[i,0],(1+0.1)*anchor[i,1],'A'+str(i+1),color=\"black\")\n",
    "    plt.show()\n",
    "    return (A1,A2,A3,A4)"
   ]
  },
  {
   "cell_type": "code",
   "execution_count": 18,
   "metadata": {},
   "outputs": [
    {
     "data": {
      "application/vnd.jupyter.widget-view+json": {
       "model_id": "12091a70ac7a45919cebcc2c8e71cfc8",
       "version_major": 2,
       "version_minor": 0
      },
      "text/plain": [
       "interactive(children=(FloatSlider(value=0.0, description='A1', max=5.0, min=-5.0), FloatSlider(value=0.0, desc…"
      ]
     },
     "metadata": {},
     "output_type": "display_data"
    }
   ],
   "source": [
    "p=interactive(func_starcoor,A1=(-5,5,0.1),A2=(-5,5,0.1),A3=(-5,5,0.1),A4=(-5,5,0.1))\n",
    "display(p)"
   ]
  },
  {
   "cell_type": "code",
   "execution_count": null,
   "metadata": {},
   "outputs": [],
   "source": []
  }
 ],
 "metadata": {
  "kernelspec": {
   "display_name": "Python 3",
   "language": "python",
   "name": "python3"
  },
  "language_info": {
   "codemirror_mode": {
    "name": "ipython",
    "version": 3
   },
   "file_extension": ".py",
   "mimetype": "text/x-python",
   "name": "python",
   "nbconvert_exporter": "python",
   "pygments_lexer": "ipython3",
   "version": "3.7.4"
  }
 },
 "nbformat": 4,
 "nbformat_minor": 2
}
